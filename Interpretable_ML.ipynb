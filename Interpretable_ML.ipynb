{
  "cells": [
    {
      "cell_type": "markdown",
      "metadata": {
        "id": "view-in-github",
        "colab_type": "text"
      },
      "source": [
        "<a href=\"https://colab.research.google.com/github/jc39963/Interpretable_ML/blob/main/Interpretable_ML.ipynb\" target=\"_parent\"><img src=\"https://colab.research.google.com/assets/colab-badge.svg\" alt=\"Open In Colab\"/></a>"
      ]
    },
    {
      "cell_type": "markdown",
      "metadata": {
        "id": "fsmT4Qis58dH"
      },
      "source": [
        "# AIPI 590 - XAI | Assignment #1\n",
        "### Interpretable ML\n",
        "### Jenny Chen\n",
        "\n",
        "\n",
        "\n",
        "\n",
        "[![Open In Collab](https://colab.research.google.com/assets/colab-badge.svg)](https://colab.research.google.com/github/jc39963/Interpretable_ML/blob/main/code/Interpretable_ML.ipynb)"
      ]
    },
    {
      "cell_type": "markdown",
      "metadata": {
        "id": "4te-XwPr58dK"
      },
      "source": [
        "👉 Make sure to delete the helper markdown below in your own notebook!\n",
        "\n",
        "## DO:\n",
        "* Use markdown and comments effectively\n",
        "* Pull out classes and functions into scripts\n",
        "* Ensure cells are executed in order and avoid skipping cells to maintain reproducibility\n",
        "* Choose the appropriate runtime (i.e. GPU) if needed\n",
        "* If you are using a dataset that is too large to put in your GitHub repository, you must either pull it in via Hugging Face Datasets or put it in an S3 bucket and use boto3 to pull from there.\n",
        "* Use versioning on all installs (ie pandas==1.3.0) to ensure consistency across versions\n",
        "* Implement error handling where appropriate\n",
        "\n",
        "## DON'T:\n",
        "* Absolutely NO sending us Google Drive links or zip files with data (see above).\n",
        "* Load packages throughout the notebook. Please load all packages in the first code cell in your notebook.\n",
        "* Add API keys or tokens directly to your notebook!!!! EVER!!!\n",
        "* Include cells that you used for testing or debugging. Delete these before submission\n",
        "* Have errors rendered in your notebook. Fix errors prior to submission."
      ]
    },
    {
      "cell_type": "code",
      "execution_count": 3,
      "metadata": {
        "id": "AmnQq6_D58dM",
        "colab": {
          "base_uri": "https://localhost:8080/"
        },
        "outputId": "9ef02821-c849-454f-e20e-0c00622c6f4c"
      },
      "outputs": [
        {
          "output_type": "stream",
          "name": "stdout",
          "text": [
            "rm: cannot remove './sample_data': No such file or directory\n",
            "fatal: destination path 'Interpretable_ML' already exists and is not an empty directory.\n",
            "/content/Interpretable_ML\n",
            "README.md\n"
          ]
        }
      ],
      "source": [
        "# Please use this to connect your GitHub repository to your Google Colab notebook\n",
        "# Connects to any needed files from GitHub and Google Drive\n",
        "import os\n",
        "\n",
        "# Remove Colab default sample_data\n",
        "!rm -r ./sample_data\n",
        "\n",
        "# Clone GitHub files to colab workspace\n",
        "repo_name = \"Interpretable_ML\" # Change to your repo name\n",
        "git_path = 'https://github.com/jc39963/Interpretable_ML.git' #Change to your path\n",
        "!git clone \"{git_path}\"\n",
        "\n",
        "# Install dependencies from requirements.txt file\n",
        "#!pip install -r \"{os.path.join(repo_name,'requirements.txt')}\" #Add if using requirements.txt\n",
        "\n",
        "# Change working directory to location of notebook\n",
        "#notebook_dir = 'code'\n",
        "path_to_notebook = os.path.join(repo_name)\n",
        "%cd \"{path_to_notebook}\"\n",
        "%ls"
      ]
    },
    {
      "cell_type": "markdown",
      "metadata": {
        "id": "7QAzgINQ58dN"
      },
      "source": [
        "#### Using environment variables in Google Colab\n",
        "\n",
        "In Google Colab, locate the key button on the left side of the screen. You can enter in any environment variables or API keys here and they will remain private.\n",
        "\n",
        "Then add the environment variables to your notebook using the code below.\n",
        "\n",
        "Make sure to document in your notebook if you are using API keys and how to get them (ie share a link for documentation to get a Hugging Face API Key if you are using Hugging Face)"
      ]
    },
    {
      "cell_type": "code",
      "source": [
        "import kagglehub\n",
        "import pandas as pd\n",
        "import statsmodels.formula.api as smf\n",
        "import matplotlib.pyplot as plt\n",
        "import seaborn as sns\n",
        "import numpy as np\n",
        "import scipy.stats as stats\n",
        "from statsmodels.stats.outliers_influence import variance_inflation_factor\n",
        "import statsmodels.stats.stattools as stattools\n",
        "from sklearn.model_selection import train_test_split\n",
        "from sklearn.preprocessing import StandardScaler\n",
        "from sklearn.linear_model import LinearRegression, Ridge, Lasso\n",
        "from sklearn.metrics import mean_squared_error, r2_score\n",
        "from sklearn.linear_model import LogisticRegression\n",
        "from sklearn.metrics import accuracy_score, roc_auc_score, confusion_matrix, classification_report, auc, ConfusionMatrixDisplay, roc_curve\n"
      ],
      "metadata": {
        "id": "MrQPmxgq7OS9"
      },
      "execution_count": 122,
      "outputs": []
    },
    {
      "cell_type": "code",
      "execution_count": null,
      "metadata": {
        "id": "EvgsAbFM58dO"
      },
      "outputs": [],
      "source": [
        "from google.colab import userdata\n",
        "userdata.get('secretName')"
      ]
    },
    {
      "cell_type": "code",
      "source": [
        "\n",
        "# Download dataset\n",
        "path = kagglehub.dataset_download(\"blastchar/telco-customer-churn\")\n",
        "\n",
        "print(\"Path to dataset files:\", path)"
      ],
      "metadata": {
        "colab": {
          "base_uri": "https://localhost:8080/"
        },
        "id": "1I89QuKU6yEx",
        "outputId": "3105f75d-d25f-4b8b-d056-8cd786d0c8e2"
      },
      "execution_count": 3,
      "outputs": [
        {
          "output_type": "stream",
          "name": "stdout",
          "text": [
            "Using Colab cache for faster access to the 'telco-customer-churn' dataset.\n",
            "Path to dataset files: /kaggle/input/telco-customer-churn\n"
          ]
        }
      ]
    },
    {
      "cell_type": "code",
      "source": [
        "data = pd.read_csv(\"/kaggle/input/telco-customer-churn/WA_Fn-UseC_-Telco-Customer-Churn.csv\")"
      ],
      "metadata": {
        "id": "xo2NESqC7To7"
      },
      "execution_count": 4,
      "outputs": []
    },
    {
      "cell_type": "code",
      "source": [
        "data.head()"
      ],
      "metadata": {
        "colab": {
          "base_uri": "https://localhost:8080/",
          "height": 342
        },
        "id": "4e8ewofe7jgi",
        "outputId": "cba4dd56-7d09-4428-8e8f-cbc01795a108"
      },
      "execution_count": 5,
      "outputs": [
        {
          "output_type": "execute_result",
          "data": {
            "text/plain": [
              "   customerID  gender  SeniorCitizen Partner Dependents  tenure PhoneService  \\\n",
              "0  7590-VHVEG  Female              0     Yes         No       1           No   \n",
              "1  5575-GNVDE    Male              0      No         No      34          Yes   \n",
              "2  3668-QPYBK    Male              0      No         No       2          Yes   \n",
              "3  7795-CFOCW    Male              0      No         No      45           No   \n",
              "4  9237-HQITU  Female              0      No         No       2          Yes   \n",
              "\n",
              "      MultipleLines InternetService OnlineSecurity  ... DeviceProtection  \\\n",
              "0  No phone service             DSL             No  ...               No   \n",
              "1                No             DSL            Yes  ...              Yes   \n",
              "2                No             DSL            Yes  ...               No   \n",
              "3  No phone service             DSL            Yes  ...              Yes   \n",
              "4                No     Fiber optic             No  ...               No   \n",
              "\n",
              "  TechSupport StreamingTV StreamingMovies        Contract PaperlessBilling  \\\n",
              "0          No          No              No  Month-to-month              Yes   \n",
              "1          No          No              No        One year               No   \n",
              "2          No          No              No  Month-to-month              Yes   \n",
              "3         Yes          No              No        One year               No   \n",
              "4          No          No              No  Month-to-month              Yes   \n",
              "\n",
              "               PaymentMethod MonthlyCharges  TotalCharges Churn  \n",
              "0           Electronic check          29.85         29.85    No  \n",
              "1               Mailed check          56.95        1889.5    No  \n",
              "2               Mailed check          53.85        108.15   Yes  \n",
              "3  Bank transfer (automatic)          42.30       1840.75    No  \n",
              "4           Electronic check          70.70        151.65   Yes  \n",
              "\n",
              "[5 rows x 21 columns]"
            ],
            "text/html": [
              "\n",
              "  <div id=\"df-abf994d0-d60d-4107-9f2f-ce6bdabf4d31\" class=\"colab-df-container\">\n",
              "    <div>\n",
              "<style scoped>\n",
              "    .dataframe tbody tr th:only-of-type {\n",
              "        vertical-align: middle;\n",
              "    }\n",
              "\n",
              "    .dataframe tbody tr th {\n",
              "        vertical-align: top;\n",
              "    }\n",
              "\n",
              "    .dataframe thead th {\n",
              "        text-align: right;\n",
              "    }\n",
              "</style>\n",
              "<table border=\"1\" class=\"dataframe\">\n",
              "  <thead>\n",
              "    <tr style=\"text-align: right;\">\n",
              "      <th></th>\n",
              "      <th>customerID</th>\n",
              "      <th>gender</th>\n",
              "      <th>SeniorCitizen</th>\n",
              "      <th>Partner</th>\n",
              "      <th>Dependents</th>\n",
              "      <th>tenure</th>\n",
              "      <th>PhoneService</th>\n",
              "      <th>MultipleLines</th>\n",
              "      <th>InternetService</th>\n",
              "      <th>OnlineSecurity</th>\n",
              "      <th>...</th>\n",
              "      <th>DeviceProtection</th>\n",
              "      <th>TechSupport</th>\n",
              "      <th>StreamingTV</th>\n",
              "      <th>StreamingMovies</th>\n",
              "      <th>Contract</th>\n",
              "      <th>PaperlessBilling</th>\n",
              "      <th>PaymentMethod</th>\n",
              "      <th>MonthlyCharges</th>\n",
              "      <th>TotalCharges</th>\n",
              "      <th>Churn</th>\n",
              "    </tr>\n",
              "  </thead>\n",
              "  <tbody>\n",
              "    <tr>\n",
              "      <th>0</th>\n",
              "      <td>7590-VHVEG</td>\n",
              "      <td>Female</td>\n",
              "      <td>0</td>\n",
              "      <td>Yes</td>\n",
              "      <td>No</td>\n",
              "      <td>1</td>\n",
              "      <td>No</td>\n",
              "      <td>No phone service</td>\n",
              "      <td>DSL</td>\n",
              "      <td>No</td>\n",
              "      <td>...</td>\n",
              "      <td>No</td>\n",
              "      <td>No</td>\n",
              "      <td>No</td>\n",
              "      <td>No</td>\n",
              "      <td>Month-to-month</td>\n",
              "      <td>Yes</td>\n",
              "      <td>Electronic check</td>\n",
              "      <td>29.85</td>\n",
              "      <td>29.85</td>\n",
              "      <td>No</td>\n",
              "    </tr>\n",
              "    <tr>\n",
              "      <th>1</th>\n",
              "      <td>5575-GNVDE</td>\n",
              "      <td>Male</td>\n",
              "      <td>0</td>\n",
              "      <td>No</td>\n",
              "      <td>No</td>\n",
              "      <td>34</td>\n",
              "      <td>Yes</td>\n",
              "      <td>No</td>\n",
              "      <td>DSL</td>\n",
              "      <td>Yes</td>\n",
              "      <td>...</td>\n",
              "      <td>Yes</td>\n",
              "      <td>No</td>\n",
              "      <td>No</td>\n",
              "      <td>No</td>\n",
              "      <td>One year</td>\n",
              "      <td>No</td>\n",
              "      <td>Mailed check</td>\n",
              "      <td>56.95</td>\n",
              "      <td>1889.5</td>\n",
              "      <td>No</td>\n",
              "    </tr>\n",
              "    <tr>\n",
              "      <th>2</th>\n",
              "      <td>3668-QPYBK</td>\n",
              "      <td>Male</td>\n",
              "      <td>0</td>\n",
              "      <td>No</td>\n",
              "      <td>No</td>\n",
              "      <td>2</td>\n",
              "      <td>Yes</td>\n",
              "      <td>No</td>\n",
              "      <td>DSL</td>\n",
              "      <td>Yes</td>\n",
              "      <td>...</td>\n",
              "      <td>No</td>\n",
              "      <td>No</td>\n",
              "      <td>No</td>\n",
              "      <td>No</td>\n",
              "      <td>Month-to-month</td>\n",
              "      <td>Yes</td>\n",
              "      <td>Mailed check</td>\n",
              "      <td>53.85</td>\n",
              "      <td>108.15</td>\n",
              "      <td>Yes</td>\n",
              "    </tr>\n",
              "    <tr>\n",
              "      <th>3</th>\n",
              "      <td>7795-CFOCW</td>\n",
              "      <td>Male</td>\n",
              "      <td>0</td>\n",
              "      <td>No</td>\n",
              "      <td>No</td>\n",
              "      <td>45</td>\n",
              "      <td>No</td>\n",
              "      <td>No phone service</td>\n",
              "      <td>DSL</td>\n",
              "      <td>Yes</td>\n",
              "      <td>...</td>\n",
              "      <td>Yes</td>\n",
              "      <td>Yes</td>\n",
              "      <td>No</td>\n",
              "      <td>No</td>\n",
              "      <td>One year</td>\n",
              "      <td>No</td>\n",
              "      <td>Bank transfer (automatic)</td>\n",
              "      <td>42.30</td>\n",
              "      <td>1840.75</td>\n",
              "      <td>No</td>\n",
              "    </tr>\n",
              "    <tr>\n",
              "      <th>4</th>\n",
              "      <td>9237-HQITU</td>\n",
              "      <td>Female</td>\n",
              "      <td>0</td>\n",
              "      <td>No</td>\n",
              "      <td>No</td>\n",
              "      <td>2</td>\n",
              "      <td>Yes</td>\n",
              "      <td>No</td>\n",
              "      <td>Fiber optic</td>\n",
              "      <td>No</td>\n",
              "      <td>...</td>\n",
              "      <td>No</td>\n",
              "      <td>No</td>\n",
              "      <td>No</td>\n",
              "      <td>No</td>\n",
              "      <td>Month-to-month</td>\n",
              "      <td>Yes</td>\n",
              "      <td>Electronic check</td>\n",
              "      <td>70.70</td>\n",
              "      <td>151.65</td>\n",
              "      <td>Yes</td>\n",
              "    </tr>\n",
              "  </tbody>\n",
              "</table>\n",
              "<p>5 rows × 21 columns</p>\n",
              "</div>\n",
              "    <div class=\"colab-df-buttons\">\n",
              "\n",
              "  <div class=\"colab-df-container\">\n",
              "    <button class=\"colab-df-convert\" onclick=\"convertToInteractive('df-abf994d0-d60d-4107-9f2f-ce6bdabf4d31')\"\n",
              "            title=\"Convert this dataframe to an interactive table.\"\n",
              "            style=\"display:none;\">\n",
              "\n",
              "  <svg xmlns=\"http://www.w3.org/2000/svg\" height=\"24px\" viewBox=\"0 -960 960 960\">\n",
              "    <path d=\"M120-120v-720h720v720H120Zm60-500h600v-160H180v160Zm220 220h160v-160H400v160Zm0 220h160v-160H400v160ZM180-400h160v-160H180v160Zm440 0h160v-160H620v160ZM180-180h160v-160H180v160Zm440 0h160v-160H620v160Z\"/>\n",
              "  </svg>\n",
              "    </button>\n",
              "\n",
              "  <style>\n",
              "    .colab-df-container {\n",
              "      display:flex;\n",
              "      gap: 12px;\n",
              "    }\n",
              "\n",
              "    .colab-df-convert {\n",
              "      background-color: #E8F0FE;\n",
              "      border: none;\n",
              "      border-radius: 50%;\n",
              "      cursor: pointer;\n",
              "      display: none;\n",
              "      fill: #1967D2;\n",
              "      height: 32px;\n",
              "      padding: 0 0 0 0;\n",
              "      width: 32px;\n",
              "    }\n",
              "\n",
              "    .colab-df-convert:hover {\n",
              "      background-color: #E2EBFA;\n",
              "      box-shadow: 0px 1px 2px rgba(60, 64, 67, 0.3), 0px 1px 3px 1px rgba(60, 64, 67, 0.15);\n",
              "      fill: #174EA6;\n",
              "    }\n",
              "\n",
              "    .colab-df-buttons div {\n",
              "      margin-bottom: 4px;\n",
              "    }\n",
              "\n",
              "    [theme=dark] .colab-df-convert {\n",
              "      background-color: #3B4455;\n",
              "      fill: #D2E3FC;\n",
              "    }\n",
              "\n",
              "    [theme=dark] .colab-df-convert:hover {\n",
              "      background-color: #434B5C;\n",
              "      box-shadow: 0px 1px 3px 1px rgba(0, 0, 0, 0.15);\n",
              "      filter: drop-shadow(0px 1px 2px rgba(0, 0, 0, 0.3));\n",
              "      fill: #FFFFFF;\n",
              "    }\n",
              "  </style>\n",
              "\n",
              "    <script>\n",
              "      const buttonEl =\n",
              "        document.querySelector('#df-abf994d0-d60d-4107-9f2f-ce6bdabf4d31 button.colab-df-convert');\n",
              "      buttonEl.style.display =\n",
              "        google.colab.kernel.accessAllowed ? 'block' : 'none';\n",
              "\n",
              "      async function convertToInteractive(key) {\n",
              "        const element = document.querySelector('#df-abf994d0-d60d-4107-9f2f-ce6bdabf4d31');\n",
              "        const dataTable =\n",
              "          await google.colab.kernel.invokeFunction('convertToInteractive',\n",
              "                                                    [key], {});\n",
              "        if (!dataTable) return;\n",
              "\n",
              "        const docLinkHtml = 'Like what you see? Visit the ' +\n",
              "          '<a target=\"_blank\" href=https://colab.research.google.com/notebooks/data_table.ipynb>data table notebook</a>'\n",
              "          + ' to learn more about interactive tables.';\n",
              "        element.innerHTML = '';\n",
              "        dataTable['output_type'] = 'display_data';\n",
              "        await google.colab.output.renderOutput(dataTable, element);\n",
              "        const docLink = document.createElement('div');\n",
              "        docLink.innerHTML = docLinkHtml;\n",
              "        element.appendChild(docLink);\n",
              "      }\n",
              "    </script>\n",
              "  </div>\n",
              "\n",
              "\n",
              "    <div id=\"df-350d89ab-ff43-47ce-9174-4b77dcceff1f\">\n",
              "      <button class=\"colab-df-quickchart\" onclick=\"quickchart('df-350d89ab-ff43-47ce-9174-4b77dcceff1f')\"\n",
              "                title=\"Suggest charts\"\n",
              "                style=\"display:none;\">\n",
              "\n",
              "<svg xmlns=\"http://www.w3.org/2000/svg\" height=\"24px\"viewBox=\"0 0 24 24\"\n",
              "     width=\"24px\">\n",
              "    <g>\n",
              "        <path d=\"M19 3H5c-1.1 0-2 .9-2 2v14c0 1.1.9 2 2 2h14c1.1 0 2-.9 2-2V5c0-1.1-.9-2-2-2zM9 17H7v-7h2v7zm4 0h-2V7h2v10zm4 0h-2v-4h2v4z\"/>\n",
              "    </g>\n",
              "</svg>\n",
              "      </button>\n",
              "\n",
              "<style>\n",
              "  .colab-df-quickchart {\n",
              "      --bg-color: #E8F0FE;\n",
              "      --fill-color: #1967D2;\n",
              "      --hover-bg-color: #E2EBFA;\n",
              "      --hover-fill-color: #174EA6;\n",
              "      --disabled-fill-color: #AAA;\n",
              "      --disabled-bg-color: #DDD;\n",
              "  }\n",
              "\n",
              "  [theme=dark] .colab-df-quickchart {\n",
              "      --bg-color: #3B4455;\n",
              "      --fill-color: #D2E3FC;\n",
              "      --hover-bg-color: #434B5C;\n",
              "      --hover-fill-color: #FFFFFF;\n",
              "      --disabled-bg-color: #3B4455;\n",
              "      --disabled-fill-color: #666;\n",
              "  }\n",
              "\n",
              "  .colab-df-quickchart {\n",
              "    background-color: var(--bg-color);\n",
              "    border: none;\n",
              "    border-radius: 50%;\n",
              "    cursor: pointer;\n",
              "    display: none;\n",
              "    fill: var(--fill-color);\n",
              "    height: 32px;\n",
              "    padding: 0;\n",
              "    width: 32px;\n",
              "  }\n",
              "\n",
              "  .colab-df-quickchart:hover {\n",
              "    background-color: var(--hover-bg-color);\n",
              "    box-shadow: 0 1px 2px rgba(60, 64, 67, 0.3), 0 1px 3px 1px rgba(60, 64, 67, 0.15);\n",
              "    fill: var(--button-hover-fill-color);\n",
              "  }\n",
              "\n",
              "  .colab-df-quickchart-complete:disabled,\n",
              "  .colab-df-quickchart-complete:disabled:hover {\n",
              "    background-color: var(--disabled-bg-color);\n",
              "    fill: var(--disabled-fill-color);\n",
              "    box-shadow: none;\n",
              "  }\n",
              "\n",
              "  .colab-df-spinner {\n",
              "    border: 2px solid var(--fill-color);\n",
              "    border-color: transparent;\n",
              "    border-bottom-color: var(--fill-color);\n",
              "    animation:\n",
              "      spin 1s steps(1) infinite;\n",
              "  }\n",
              "\n",
              "  @keyframes spin {\n",
              "    0% {\n",
              "      border-color: transparent;\n",
              "      border-bottom-color: var(--fill-color);\n",
              "      border-left-color: var(--fill-color);\n",
              "    }\n",
              "    20% {\n",
              "      border-color: transparent;\n",
              "      border-left-color: var(--fill-color);\n",
              "      border-top-color: var(--fill-color);\n",
              "    }\n",
              "    30% {\n",
              "      border-color: transparent;\n",
              "      border-left-color: var(--fill-color);\n",
              "      border-top-color: var(--fill-color);\n",
              "      border-right-color: var(--fill-color);\n",
              "    }\n",
              "    40% {\n",
              "      border-color: transparent;\n",
              "      border-right-color: var(--fill-color);\n",
              "      border-top-color: var(--fill-color);\n",
              "    }\n",
              "    60% {\n",
              "      border-color: transparent;\n",
              "      border-right-color: var(--fill-color);\n",
              "    }\n",
              "    80% {\n",
              "      border-color: transparent;\n",
              "      border-right-color: var(--fill-color);\n",
              "      border-bottom-color: var(--fill-color);\n",
              "    }\n",
              "    90% {\n",
              "      border-color: transparent;\n",
              "      border-bottom-color: var(--fill-color);\n",
              "    }\n",
              "  }\n",
              "</style>\n",
              "\n",
              "      <script>\n",
              "        async function quickchart(key) {\n",
              "          const quickchartButtonEl =\n",
              "            document.querySelector('#' + key + ' button');\n",
              "          quickchartButtonEl.disabled = true;  // To prevent multiple clicks.\n",
              "          quickchartButtonEl.classList.add('colab-df-spinner');\n",
              "          try {\n",
              "            const charts = await google.colab.kernel.invokeFunction(\n",
              "                'suggestCharts', [key], {});\n",
              "          } catch (error) {\n",
              "            console.error('Error during call to suggestCharts:', error);\n",
              "          }\n",
              "          quickchartButtonEl.classList.remove('colab-df-spinner');\n",
              "          quickchartButtonEl.classList.add('colab-df-quickchart-complete');\n",
              "        }\n",
              "        (() => {\n",
              "          let quickchartButtonEl =\n",
              "            document.querySelector('#df-350d89ab-ff43-47ce-9174-4b77dcceff1f button');\n",
              "          quickchartButtonEl.style.display =\n",
              "            google.colab.kernel.accessAllowed ? 'block' : 'none';\n",
              "        })();\n",
              "      </script>\n",
              "    </div>\n",
              "\n",
              "    </div>\n",
              "  </div>\n"
            ],
            "application/vnd.google.colaboratory.intrinsic+json": {
              "type": "dataframe",
              "variable_name": "data"
            }
          },
          "metadata": {},
          "execution_count": 5
        }
      ]
    },
    {
      "cell_type": "markdown",
      "source": [
        "## $1.$  Exploratory Analysis and Assumptions"
      ],
      "metadata": {
        "id": "gkXt0H918LeT"
      }
    },
    {
      "cell_type": "markdown",
      "source": [
        "### a. Recoding Variables"
      ],
      "metadata": {
        "id": "dVvsSRTx8n4t"
      }
    },
    {
      "cell_type": "code",
      "source": [
        "#recoding as binary\n",
        "data[\"Churn\"] = [1 if x == \"Yes\" else 0 for x in data['Churn']]"
      ],
      "metadata": {
        "id": "glsQgmmc7kae"
      },
      "execution_count": 6,
      "outputs": []
    },
    {
      "cell_type": "code",
      "source": [
        "#turning other variables categorical\n",
        "data[\"PaymentMethod\"] = data[\"PaymentMethod\"].astype('category')\n",
        "data[\"Contract\"] = data[\"Contract\"].astype('category')\n",
        "data[\"InternetService\"] = data[\"InternetService\"].astype('category')\n",
        "data[\"OnlineBackup\"] = data[\"OnlineBackup\"].astype('category')\n",
        "data[\"gender\"] = data[\"gender\"].astype('category')\n",
        "data[\"MultipleLines\"] = data[\"MultipleLines\"].astype('category')"
      ],
      "metadata": {
        "id": "8EFyHUms9dlX"
      },
      "execution_count": 7,
      "outputs": []
    },
    {
      "cell_type": "code",
      "source": [
        "#recoding other features as binary\n",
        "data[\"Partner\"] = [1 if x == \"Yes\" else 0 for x in data['Partner']]\n",
        "data[\"Dependents\"] = [1 if x == \"Yes\" else 0 for x in data['Dependents']]\n",
        "data[\"PhoneService\"] = [1 if x == \"Yes\" else 0 for x in data['PhoneService']]\n",
        "data[\"PaperlessBilling\"] = [1 if x == \"Yes\" else 0 for x in data['PaperlessBilling']]\n",
        "data[\"OnlineSecurity\"] = [1 if x == \"Yes\" else 0 for x in data['OnlineSecurity']]\n",
        "data[\"DeviceProtection\"] = [1 if x == \"Yes\" else 0 for x in data['DeviceProtection']]\n",
        "data[\"TechSupport\"] = [1 if x == \"Yes\" else 0 for x in data['TechSupport']]\n",
        "data[\"StreamingTV\"] = [1 if x == \"Yes\" else 0 for x in data['StreamingTV']]\n",
        "data[\"StreamingMovies\"] = [1 if x == \"Yes\" else 0 for x in data['StreamingMovies']]"
      ],
      "metadata": {
        "id": "q8nYcnOm-ur-"
      },
      "execution_count": 8,
      "outputs": []
    },
    {
      "cell_type": "code",
      "source": [
        "#finding null values to recode this variable to a float\n",
        "data[\"TotalCharges\"] = data[\"TotalCharges\"].replace(' ', pd.NA)\n"
      ],
      "metadata": {
        "id": "vPPfxU0a_ahc"
      },
      "execution_count": 9,
      "outputs": []
    },
    {
      "cell_type": "code",
      "source": [
        "data.TotalCharges.isna().sum() #only 11 missing\n",
        "data.dropna(inplace=True) #drop missing"
      ],
      "metadata": {
        "id": "YeGFsZu-Atth"
      },
      "execution_count": 10,
      "outputs": []
    },
    {
      "cell_type": "code",
      "source": [
        "#recode to numeric\n",
        "data[\"TotalCharges\"] = data[\"TotalCharges\"].astype('float')"
      ],
      "metadata": {
        "id": "mXq4qqhxA6Xi"
      },
      "execution_count": 11,
      "outputs": []
    },
    {
      "cell_type": "code",
      "source": [
        "data.dtypes #checking dtypes"
      ],
      "metadata": {
        "colab": {
          "base_uri": "https://localhost:8080/",
          "height": 743
        },
        "id": "_r2uAQyb-IS2",
        "outputId": "0fbb4e46-e11a-4804-ebed-cf7358dc48af"
      },
      "execution_count": 12,
      "outputs": [
        {
          "output_type": "execute_result",
          "data": {
            "text/plain": [
              "customerID            object\n",
              "gender              category\n",
              "SeniorCitizen          int64\n",
              "Partner                int64\n",
              "Dependents             int64\n",
              "tenure                 int64\n",
              "PhoneService           int64\n",
              "MultipleLines       category\n",
              "InternetService     category\n",
              "OnlineSecurity         int64\n",
              "OnlineBackup        category\n",
              "DeviceProtection       int64\n",
              "TechSupport            int64\n",
              "StreamingTV            int64\n",
              "StreamingMovies        int64\n",
              "Contract            category\n",
              "PaperlessBilling       int64\n",
              "PaymentMethod       category\n",
              "MonthlyCharges       float64\n",
              "TotalCharges         float64\n",
              "Churn                  int64\n",
              "dtype: object"
            ],
            "text/html": [
              "<div>\n",
              "<style scoped>\n",
              "    .dataframe tbody tr th:only-of-type {\n",
              "        vertical-align: middle;\n",
              "    }\n",
              "\n",
              "    .dataframe tbody tr th {\n",
              "        vertical-align: top;\n",
              "    }\n",
              "\n",
              "    .dataframe thead th {\n",
              "        text-align: right;\n",
              "    }\n",
              "</style>\n",
              "<table border=\"1\" class=\"dataframe\">\n",
              "  <thead>\n",
              "    <tr style=\"text-align: right;\">\n",
              "      <th></th>\n",
              "      <th>0</th>\n",
              "    </tr>\n",
              "  </thead>\n",
              "  <tbody>\n",
              "    <tr>\n",
              "      <th>customerID</th>\n",
              "      <td>object</td>\n",
              "    </tr>\n",
              "    <tr>\n",
              "      <th>gender</th>\n",
              "      <td>category</td>\n",
              "    </tr>\n",
              "    <tr>\n",
              "      <th>SeniorCitizen</th>\n",
              "      <td>int64</td>\n",
              "    </tr>\n",
              "    <tr>\n",
              "      <th>Partner</th>\n",
              "      <td>int64</td>\n",
              "    </tr>\n",
              "    <tr>\n",
              "      <th>Dependents</th>\n",
              "      <td>int64</td>\n",
              "    </tr>\n",
              "    <tr>\n",
              "      <th>tenure</th>\n",
              "      <td>int64</td>\n",
              "    </tr>\n",
              "    <tr>\n",
              "      <th>PhoneService</th>\n",
              "      <td>int64</td>\n",
              "    </tr>\n",
              "    <tr>\n",
              "      <th>MultipleLines</th>\n",
              "      <td>category</td>\n",
              "    </tr>\n",
              "    <tr>\n",
              "      <th>InternetService</th>\n",
              "      <td>category</td>\n",
              "    </tr>\n",
              "    <tr>\n",
              "      <th>OnlineSecurity</th>\n",
              "      <td>int64</td>\n",
              "    </tr>\n",
              "    <tr>\n",
              "      <th>OnlineBackup</th>\n",
              "      <td>category</td>\n",
              "    </tr>\n",
              "    <tr>\n",
              "      <th>DeviceProtection</th>\n",
              "      <td>int64</td>\n",
              "    </tr>\n",
              "    <tr>\n",
              "      <th>TechSupport</th>\n",
              "      <td>int64</td>\n",
              "    </tr>\n",
              "    <tr>\n",
              "      <th>StreamingTV</th>\n",
              "      <td>int64</td>\n",
              "    </tr>\n",
              "    <tr>\n",
              "      <th>StreamingMovies</th>\n",
              "      <td>int64</td>\n",
              "    </tr>\n",
              "    <tr>\n",
              "      <th>Contract</th>\n",
              "      <td>category</td>\n",
              "    </tr>\n",
              "    <tr>\n",
              "      <th>PaperlessBilling</th>\n",
              "      <td>int64</td>\n",
              "    </tr>\n",
              "    <tr>\n",
              "      <th>PaymentMethod</th>\n",
              "      <td>category</td>\n",
              "    </tr>\n",
              "    <tr>\n",
              "      <th>MonthlyCharges</th>\n",
              "      <td>float64</td>\n",
              "    </tr>\n",
              "    <tr>\n",
              "      <th>TotalCharges</th>\n",
              "      <td>float64</td>\n",
              "    </tr>\n",
              "    <tr>\n",
              "      <th>Churn</th>\n",
              "      <td>int64</td>\n",
              "    </tr>\n",
              "  </tbody>\n",
              "</table>\n",
              "</div><br><label><b>dtype:</b> object</label>"
            ]
          },
          "metadata": {},
          "execution_count": 12
        }
      ]
    },
    {
      "cell_type": "markdown",
      "source": [
        "### b. Checking Assumptions  \n",
        "- Run models and plot residuals to check assumptions"
      ],
      "metadata": {
        "id": "xsTdO6IlBGZN"
      }
    },
    {
      "cell_type": "markdown",
      "source": [
        "### i. Linear Regression  \n",
        "\n",
        "***Assumptions***:\n",
        "*   **Linearity** ❌\n",
        "*   **Independence of observations** ✅ - according to the data card from Kaggle, the data is all from different customers suggesting independence of observations\n",
        "*   **Homoscedasticity of residuals** ❌\n",
        "*   **Normality of residuals** ❌\n",
        "* **No autocorrelation between residuals**✅\n",
        "* **No multicollinearity** ✅\n",
        "* **No endogeneity** (no correlation between a predictor and error term) ✅ - Broken when outcome (Y) also causes X, there is measurement errors in predictors, and important confounders / variables are omitted. Therefore, it seems reliant on the data collection and data used. Since the data is a sample dataset from IBM on Kaggle, I included all variables as predictors, and it does not make much sense for churn to cause any of the predictor variables used, it seems this assumption can be passed.\n",
        "* **Correct specification** - This is dependent on your needs and data and understanding of the specific question / context of your data and ask and also the checking of other assumptions in this list (e.g. multicollinearity for deciding which variables to exclude)  \n",
        "\n",
        "\n",
        "\n",
        "\n",
        "- *Note:* Understanding endogeneity and the explanation was done with assistance from ChatGPT (free version) and code generation for residuals histogram, QQ plot, and VIF were also done with assistance from ChatGPT. The prompt was to explain endogeneity and that the assumption is or is not met with linear regression. For my code prompts, I asked how to calculate VIF and plot residuals after having used a statsmodel.api formula linear regression model.\n",
        "\n",
        "\n",
        "\n"
      ],
      "metadata": {
        "id": "hu1SNSp4BjDh"
      }
    },
    {
      "cell_type": "code",
      "source": [
        "# Get all column names except customerID and Churn\n",
        "predictor_cols = [col for col in data.columns if col not in ['customerID', 'Churn']]\n",
        "\n",
        "# Create formula as string\n",
        "formula = 'Churn ~ ' + ' + '.join(predictor_cols)\n",
        "\n",
        "# Define model\n",
        "lin_model = smf.ols(formula=formula, data=data).fit()"
      ],
      "metadata": {
        "id": "sgx_-CPqCkmo"
      },
      "execution_count": 13,
      "outputs": []
    },
    {
      "cell_type": "markdown",
      "source": [
        "\n",
        "\n",
        " **Plotting Residuals vs. Predicted**  \n",
        "\n",
        "* The residuals vs. predicted plot show that the assumption of **linearity** is violated. The residuals are in 2 distinct lines instead of a random cloud / spread as they should look if the assumption of linearity was met.  Additionally, the plot shows the assumption of **homoscedasticity** is not met as we do not see a random spread of the residuals around 0, but rather 2 distinct straight lines. These are likely due to the fact that the outcome is binary rather than continuous, therefore.  \n",
        "\n"
      ],
      "metadata": {
        "id": "UBlGLMPdtMcR"
      }
    },
    {
      "cell_type": "code",
      "source": [
        "fitted = lin_model.fittedvalues\n",
        "residuals = lin_model.resid\n",
        "\n",
        "# residuals vs predicted plot\n",
        "plt.scatter(fitted, residuals, alpha=0.5)\n",
        "plt.axhline(0, color=\"green\", linestyle=\"--\")\n",
        "plt.xlabel(\"Predicted Values\")\n",
        "plt.ylabel(\"Residuals\")\n",
        "plt.title(\"Residuals vs Predicted\")\n",
        "plt.show()"
      ],
      "metadata": {
        "colab": {
          "base_uri": "https://localhost:8080/",
          "height": 472
        },
        "id": "I_Sgbi0Csadm",
        "outputId": "37260609-5bcc-4456-8606-81c184d07ccc"
      },
      "execution_count": 15,
      "outputs": [
        {
          "output_type": "display_data",
          "data": {
            "text/plain": [
              "<Figure size 640x480 with 1 Axes>"
            ],
            "image/png": "[encoded data removed]"
          },
          "metadata": {}
        }
      ]
    },
    {
      "cell_type": "markdown",
      "source": [
        "\n",
        "**Plotting distribution of residuals and QQ plot**\n",
        "\n",
        "* The histogram of residuals shows that the **assumption of normality** of residuals is violated as the residuals are not normally distributed, instead, we see 2 peaks within the plot (likely because the outcome is binary so there is a peak around the outcome of 1 and one at 0). This is further corroborated by the QQ plot in which the points do not adhere well to the straight line, therefore the theoretical quantiles and actual quantiles from the residuals do not align, suggesting they are not normally distributed.\n"
      ],
      "metadata": {
        "id": "Hri2-o_QvsSv"
      }
    },
    {
      "cell_type": "code",
      "source": [
        "\n",
        "sns.histplot(residuals, kde=True)\n",
        "plt.title(\"Histogram of Residuals\")\n",
        "plt.show()\n",
        "\n",
        "# Q-Q plot - code from ChatGPT\n",
        "stats.probplot(residuals, dist=\"norm\", plot=plt)\n",
        "plt.title(\"QQ Plot\")\n",
        "plt.show()"
      ],
      "metadata": {
        "colab": {
          "base_uri": "https://localhost:8080/",
          "height": 907
        },
        "id": "Kzrp96HeuBKb",
        "outputId": "c135763b-dd99-474a-facf-1d5a2f30fa8b"
      },
      "execution_count": 19,
      "outputs": [
        {
          "output_type": "display_data",
          "data": {
            "text/plain": [
              "<Figure size 640x480 with 1 Axes>"
            ],
            "image/png": "[encoded data removed]"
          },
          "metadata": {}
        },
        {
          "output_type": "display_data",
          "data": {
            "text/plain": [
              "<Figure size 640x480 with 1 Axes>"
            ],
            "image/png": "[encoded data removed]"
          },
          "metadata": {}
        }
      ]
    },
    {
      "cell_type": "markdown",
      "source": [
        "**VIF for multicollinearity**\n",
        "\n",
        "* The assumption of multicollinearity is violated currently with the variables I have included as predictors as we see VIFs of very high numbers (much greater than 10) and up to infinity. This is likely because things like having no internet service shows up in other variables like 'OnlineBackup' where having no internet service is a category and MonthlyCharges is also likely highly correlated with whether they have certain services or not."
      ],
      "metadata": {
        "id": "CfJCwy-SzQZk"
      }
    },
    {
      "cell_type": "code",
      "source": [
        "# Code from ChatGPT\n",
        "# Get variables and names\n",
        "X = lin_model.model.exog\n",
        "names = lin_model.model.exog_names\n",
        "\n",
        "# Compute VIF\n",
        "vif_data = pd.DataFrame({\n",
        "    \"Variable\": names,\n",
        "    \"VIF\": [variance_inflation_factor(X, i) for i in range(X.shape[1])]\n",
        "})\n",
        "\n",
        "vif_data"
      ],
      "metadata": {
        "colab": {
          "base_uri": "https://localhost:8080/",
          "height": 954
        },
        "id": "29T4th-CzTVl",
        "outputId": "02ffca7c-4a7a-4eb7-c8df-bd189b5285a2"
      },
      "execution_count": 40,
      "outputs": [
        {
          "output_type": "stream",
          "name": "stderr",
          "text": [
            "/usr/local/lib/python3.12/dist-packages/statsmodels/regression/linear_model.py:1782: RuntimeWarning: divide by zero encountered in scalar divide\n",
            "  return 1 - self.ssr/self.centered_tss\n",
            "/usr/local/lib/python3.12/dist-packages/statsmodels/stats/outliers_influence.py:197: RuntimeWarning: divide by zero encountered in scalar divide\n",
            "  vif = 1. / (1. - r_squared_i)\n"
          ]
        },
        {
          "output_type": "execute_result",
          "data": {
            "text/plain": [
              "                                    Variable         VIF\n",
              "0                                  Intercept    0.000000\n",
              "1                             gender[T.Male]    1.002106\n",
              "2          MultipleLines[T.No phone service]         inf\n",
              "3                       MultipleLines[T.Yes]    7.289761\n",
              "4             InternetService[T.Fiber optic]  148.500814\n",
              "5                      InternetService[T.No]         inf\n",
              "6        OnlineBackup[T.No internet service]         inf\n",
              "7                        OnlineBackup[T.Yes]    6.796678\n",
              "8                       Contract[T.One year]    1.625784\n",
              "9                       Contract[T.Two year]    2.652328\n",
              "10  PaymentMethod[T.Credit card (automatic)]    1.560999\n",
              "11         PaymentMethod[T.Electronic check]    1.976032\n",
              "12             PaymentMethod[T.Mailed check]    1.857058\n",
              "13                             SeniorCitizen    1.153220\n",
              "14                                   Partner    1.462988\n",
              "15                                Dependents    1.381598\n",
              "16                                    tenure    7.584453\n",
              "17                              PhoneService         inf\n",
              "18                            OnlineSecurity    6.338349\n",
              "19                          DeviceProtection    6.924754\n",
              "20                               TechSupport    6.476508\n",
              "21                               StreamingTV   24.080019\n",
              "22                           StreamingMovies   24.156394\n",
              "23                          PaperlessBilling    1.208455\n",
              "24                            MonthlyCharges  866.089640\n",
              "25                              TotalCharges   10.811490"
            ],
            "text/html": [
              "\n",
              "  <div id=\"df-f833a30b-086a-444b-9ea3-391e9f452b52\" class=\"colab-df-container\">\n",
              "    <div>\n",
              "<style scoped>\n",
              "    .dataframe tbody tr th:only-of-type {\n",
              "        vertical-align: middle;\n",
              "    }\n",
              "\n",
              "    .dataframe tbody tr th {\n",
              "        vertical-align: top;\n",
              "    }\n",
              "\n",
              "    .dataframe thead th {\n",
              "        text-align: right;\n",
              "    }\n",
              "</style>\n",
              "<table border=\"1\" class=\"dataframe\">\n",
              "  <thead>\n",
              "    <tr style=\"text-align: right;\">\n",
              "      <th></th>\n",
              "      <th>Variable</th>\n",
              "      <th>VIF</th>\n",
              "    </tr>\n",
              "  </thead>\n",
              "  <tbody>\n",
              "    <tr>\n",
              "      <th>0</th>\n",
              "      <td>Intercept</td>\n",
              "      <td>0.000000</td>\n",
              "    </tr>\n",
              "    <tr>\n",
              "      <th>1</th>\n",
              "      <td>gender[T.Male]</td>\n",
              "      <td>1.002106</td>\n",
              "    </tr>\n",
              "    <tr>\n",
              "      <th>2</th>\n",
              "      <td>MultipleLines[T.No phone service]</td>\n",
              "      <td>inf</td>\n",
              "    </tr>\n",
              "    <tr>\n",
              "      <th>3</th>\n",
              "      <td>MultipleLines[T.Yes]</td>\n",
              "      <td>7.289761</td>\n",
              "    </tr>\n",
              "    <tr>\n",
              "      <th>4</th>\n",
              "      <td>InternetService[T.Fiber optic]</td>\n",
              "      <td>148.500814</td>\n",
              "    </tr>\n",
              "    <tr>\n",
              "      <th>5</th>\n",
              "      <td>InternetService[T.No]</td>\n",
              "      <td>inf</td>\n",
              "    </tr>\n",
              "    <tr>\n",
              "      <th>6</th>\n",
              "      <td>OnlineBackup[T.No internet service]</td>\n",
              "      <td>inf</td>\n",
              "    </tr>\n",
              "    <tr>\n",
              "      <th>7</th>\n",
              "      <td>OnlineBackup[T.Yes]</td>\n",
              "      <td>6.796678</td>\n",
              "    </tr>\n",
              "    <tr>\n",
              "      <th>8</th>\n",
              "      <td>Contract[T.One year]</td>\n",
              "      <td>1.625784</td>\n",
              "    </tr>\n",
              "    <tr>\n",
              "      <th>9</th>\n",
              "      <td>Contract[T.Two year]</td>\n",
              "      <td>2.652328</td>\n",
              "    </tr>\n",
              "    <tr>\n",
              "      <th>10</th>\n",
              "      <td>PaymentMethod[T.Credit card (automatic)]</td>\n",
              "      <td>1.560999</td>\n",
              "    </tr>\n",
              "    <tr>\n",
              "      <th>11</th>\n",
              "      <td>PaymentMethod[T.Electronic check]</td>\n",
              "      <td>1.976032</td>\n",
              "    </tr>\n",
              "    <tr>\n",
              "      <th>12</th>\n",
              "      <td>PaymentMethod[T.Mailed check]</td>\n",
              "      <td>1.857058</td>\n",
              "    </tr>\n",
              "    <tr>\n",
              "      <th>13</th>\n",
              "      <td>SeniorCitizen</td>\n",
              "      <td>1.153220</td>\n",
              "    </tr>\n",
              "    <tr>\n",
              "      <th>14</th>\n",
              "      <td>Partner</td>\n",
              "      <td>1.462988</td>\n",
              "    </tr>\n",
              "    <tr>\n",
              "      <th>15</th>\n",
              "      <td>Dependents</td>\n",
              "      <td>1.381598</td>\n",
              "    </tr>\n",
              "    <tr>\n",
              "      <th>16</th>\n",
              "      <td>tenure</td>\n",
              "      <td>7.584453</td>\n",
              "    </tr>\n",
              "    <tr>\n",
              "      <th>17</th>\n",
              "      <td>PhoneService</td>\n",
              "      <td>inf</td>\n",
              "    </tr>\n",
              "    <tr>\n",
              "      <th>18</th>\n",
              "      <td>OnlineSecurity</td>\n",
              "      <td>6.338349</td>\n",
              "    </tr>\n",
              "    <tr>\n",
              "      <th>19</th>\n",
              "      <td>DeviceProtection</td>\n",
              "      <td>6.924754</td>\n",
              "    </tr>\n",
              "    <tr>\n",
              "      <th>20</th>\n",
              "      <td>TechSupport</td>\n",
              "      <td>6.476508</td>\n",
              "    </tr>\n",
              "    <tr>\n",
              "      <th>21</th>\n",
              "      <td>StreamingTV</td>\n",
              "      <td>24.080019</td>\n",
              "    </tr>\n",
              "    <tr>\n",
              "      <th>22</th>\n",
              "      <td>StreamingMovies</td>\n",
              "      <td>24.156394</td>\n",
              "    </tr>\n",
              "    <tr>\n",
              "      <th>23</th>\n",
              "      <td>PaperlessBilling</td>\n",
              "      <td>1.208455</td>\n",
              "    </tr>\n",
              "    <tr>\n",
              "      <th>24</th>\n",
              "      <td>MonthlyCharges</td>\n",
              "      <td>866.089640</td>\n",
              "    </tr>\n",
              "    <tr>\n",
              "      <th>25</th>\n",
              "      <td>TotalCharges</td>\n",
              "      <td>10.811490</td>\n",
              "    </tr>\n",
              "  </tbody>\n",
              "</table>\n",
              "</div>\n",
              "    <div class=\"colab-df-buttons\">\n",
              "\n",
              "  <div class=\"colab-df-container\">\n",
              "    <button class=\"colab-df-convert\" onclick=\"convertToInteractive('df-f833a30b-086a-444b-9ea3-391e9f452b52')\"\n",
              "            title=\"Convert this dataframe to an interactive table.\"\n",
              "            style=\"display:none;\">\n",
              "\n",
              "  <svg xmlns=\"http://www.w3.org/2000/svg\" height=\"24px\" viewBox=\"0 -960 960 960\">\n",
              "    <path d=\"M120-120v-720h720v720H120Zm60-500h600v-160H180v160Zm220 220h160v-160H400v160Zm0 220h160v-160H400v160ZM180-400h160v-160H180v160Zm440 0h160v-160H620v160ZM180-180h160v-160H180v160Zm440 0h160v-160H620v160Z\"/>\n",
              "  </svg>\n",
              "    </button>\n",
              "\n",
              "  <style>\n",
              "    .colab-df-container {\n",
              "      display:flex;\n",
              "      gap: 12px;\n",
              "    }\n",
              "\n",
              "    .colab-df-convert {\n",
              "      background-color: #E8F0FE;\n",
              "      border: none;\n",
              "      border-radius: 50%;\n",
              "      cursor: pointer;\n",
              "      display: none;\n",
              "      fill: #1967D2;\n",
              "      height: 32px;\n",
              "      padding: 0 0 0 0;\n",
              "      width: 32px;\n",
              "    }\n",
              "\n",
              "    .colab-df-convert:hover {\n",
              "      background-color: #E2EBFA;\n",
              "      box-shadow: 0px 1px 2px rgba(60, 64, 67, 0.3), 0px 1px 3px 1px rgba(60, 64, 67, 0.15);\n",
              "      fill: #174EA6;\n",
              "    }\n",
              "\n",
              "    .colab-df-buttons div {\n",
              "      margin-bottom: 4px;\n",
              "    }\n",
              "\n",
              "    [theme=dark] .colab-df-convert {\n",
              "      background-color: #3B4455;\n",
              "      fill: #D2E3FC;\n",
              "    }\n",
              "\n",
              "    [theme=dark] .colab-df-convert:hover {\n",
              "      background-color: #434B5C;\n",
              "      box-shadow: 0px 1px 3px 1px rgba(0, 0, 0, 0.15);\n",
              "      filter: drop-shadow(0px 1px 2px rgba(0, 0, 0, 0.3));\n",
              "      fill: #FFFFFF;\n",
              "    }\n",
              "  </style>\n",
              "\n",
              "    <script>\n",
              "      const buttonEl =\n",
              "        document.querySelector('#df-f833a30b-086a-444b-9ea3-391e9f452b52 button.colab-df-convert');\n",
              "      buttonEl.style.display =\n",
              "        google.colab.kernel.accessAllowed ? 'block' : 'none';\n",
              "\n",
              "      async function convertToInteractive(key) {\n",
              "        const element = document.querySelector('#df-f833a30b-086a-444b-9ea3-391e9f452b52');\n",
              "        const dataTable =\n",
              "          await google.colab.kernel.invokeFunction('convertToInteractive',\n",
              "                                                    [key], {});\n",
              "        if (!dataTable) return;\n",
              "\n",
              "        const docLinkHtml = 'Like what you see? Visit the ' +\n",
              "          '<a target=\"_blank\" href=https://colab.research.google.com/notebooks/data_table.ipynb>data table notebook</a>'\n",
              "          + ' to learn more about interactive tables.';\n",
              "        element.innerHTML = '';\n",
              "        dataTable['output_type'] = 'display_data';\n",
              "        await google.colab.output.renderOutput(dataTable, element);\n",
              "        const docLink = document.createElement('div');\n",
              "        docLink.innerHTML = docLinkHtml;\n",
              "        element.appendChild(docLink);\n",
              "      }\n",
              "    </script>\n",
              "  </div>\n",
              "\n",
              "\n",
              "    <div id=\"df-16b968b8-3ac3-48c9-85f0-0851fa3fede5\">\n",
              "      <button class=\"colab-df-quickchart\" onclick=\"quickchart('df-16b968b8-3ac3-48c9-85f0-0851fa3fede5')\"\n",
              "                title=\"Suggest charts\"\n",
              "                style=\"display:none;\">\n",
              "\n",
              "<svg xmlns=\"http://www.w3.org/2000/svg\" height=\"24px\"viewBox=\"0 0 24 24\"\n",
              "     width=\"24px\">\n",
              "    <g>\n",
              "        <path d=\"M19 3H5c-1.1 0-2 .9-2 2v14c0 1.1.9 2 2 2h14c1.1 0 2-.9 2-2V5c0-1.1-.9-2-2-2zM9 17H7v-7h2v7zm4 0h-2V7h2v10zm4 0h-2v-4h2v4z\"/>\n",
              "    </g>\n",
              "</svg>\n",
              "      </button>\n",
              "\n",
              "<style>\n",
              "  .colab-df-quickchart {\n",
              "      --bg-color: #E8F0FE;\n",
              "      --fill-color: #1967D2;\n",
              "      --hover-bg-color: #E2EBFA;\n",
              "      --hover-fill-color: #174EA6;\n",
              "      --disabled-fill-color: #AAA;\n",
              "      --disabled-bg-color: #DDD;\n",
              "  }\n",
              "\n",
              "  [theme=dark] .colab-df-quickchart {\n",
              "      --bg-color: #3B4455;\n",
              "      --fill-color: #D2E3FC;\n",
              "      --hover-bg-color: #434B5C;\n",
              "      --hover-fill-color: #FFFFFF;\n",
              "      --disabled-bg-color: #3B4455;\n",
              "      --disabled-fill-color: #666;\n",
              "  }\n",
              "\n",
              "  .colab-df-quickchart {\n",
              "    background-color: var(--bg-color);\n",
              "    border: none;\n",
              "    border-radius: 50%;\n",
              "    cursor: pointer;\n",
              "    display: none;\n",
              "    fill: var(--fill-color);\n",
              "    height: 32px;\n",
              "    padding: 0;\n",
              "    width: 32px;\n",
              "  }\n",
              "\n",
              "  .colab-df-quickchart:hover {\n",
              "    background-color: var(--hover-bg-color);\n",
              "    box-shadow: 0 1px 2px rgba(60, 64, 67, 0.3), 0 1px 3px 1px rgba(60, 64, 67, 0.15);\n",
              "    fill: var(--button-hover-fill-color);\n",
              "  }\n",
              "\n",
              "  .colab-df-quickchart-complete:disabled,\n",
              "  .colab-df-quickchart-complete:disabled:hover {\n",
              "    background-color: var(--disabled-bg-color);\n",
              "    fill: var(--disabled-fill-color);\n",
              "    box-shadow: none;\n",
              "  }\n",
              "\n",
              "  .colab-df-spinner {\n",
              "    border: 2px solid var(--fill-color);\n",
              "    border-color: transparent;\n",
              "    border-bottom-color: var(--fill-color);\n",
              "    animation:\n",
              "      spin 1s steps(1) infinite;\n",
              "  }\n",
              "\n",
              "  @keyframes spin {\n",
              "    0% {\n",
              "      border-color: transparent;\n",
              "      border-bottom-color: var(--fill-color);\n",
              "      border-left-color: var(--fill-color);\n",
              "    }\n",
              "    20% {\n",
              "      border-color: transparent;\n",
              "      border-left-color: var(--fill-color);\n",
              "      border-top-color: var(--fill-color);\n",
              "    }\n",
              "    30% {\n",
              "      border-color: transparent;\n",
              "      border-left-color: var(--fill-color);\n",
              "      border-top-color: var(--fill-color);\n",
              "      border-right-color: var(--fill-color);\n",
              "    }\n",
              "    40% {\n",
              "      border-color: transparent;\n",
              "      border-right-color: var(--fill-color);\n",
              "      border-top-color: var(--fill-color);\n",
              "    }\n",
              "    60% {\n",
              "      border-color: transparent;\n",
              "      border-right-color: var(--fill-color);\n",
              "    }\n",
              "    80% {\n",
              "      border-color: transparent;\n",
              "      border-right-color: var(--fill-color);\n",
              "      border-bottom-color: var(--fill-color);\n",
              "    }\n",
              "    90% {\n",
              "      border-color: transparent;\n",
              "      border-bottom-color: var(--fill-color);\n",
              "    }\n",
              "  }\n",
              "</style>\n",
              "\n",
              "      <script>\n",
              "        async function quickchart(key) {\n",
              "          const quickchartButtonEl =\n",
              "            document.querySelector('#' + key + ' button');\n",
              "          quickchartButtonEl.disabled = true;  // To prevent multiple clicks.\n",
              "          quickchartButtonEl.classList.add('colab-df-spinner');\n",
              "          try {\n",
              "            const charts = await google.colab.kernel.invokeFunction(\n",
              "                'suggestCharts', [key], {});\n",
              "          } catch (error) {\n",
              "            console.error('Error during call to suggestCharts:', error);\n",
              "          }\n",
              "          quickchartButtonEl.classList.remove('colab-df-spinner');\n",
              "          quickchartButtonEl.classList.add('colab-df-quickchart-complete');\n",
              "        }\n",
              "        (() => {\n",
              "          let quickchartButtonEl =\n",
              "            document.querySelector('#df-16b968b8-3ac3-48c9-85f0-0851fa3fede5 button');\n",
              "          quickchartButtonEl.style.display =\n",
              "            google.colab.kernel.accessAllowed ? 'block' : 'none';\n",
              "        })();\n",
              "      </script>\n",
              "    </div>\n",
              "\n",
              "  <div id=\"id_64a37ed2-6d88-4a0c-827d-22b3f6e1ac74\">\n",
              "    <style>\n",
              "      .colab-df-generate {\n",
              "        background-color: #E8F0FE;\n",
              "        border: none;\n",
              "        border-radius: 50%;\n",
              "        cursor: pointer;\n",
              "        display: none;\n",
              "        fill: #1967D2;\n",
              "        height: 32px;\n",
              "        padding: 0 0 0 0;\n",
              "        width: 32px;\n",
              "      }\n",
              "\n",
              "      .colab-df-generate:hover {\n",
              "        background-color: #E2EBFA;\n",
              "        box-shadow: 0px 1px 2px rgba(60, 64, 67, 0.3), 0px 1px 3px 1px rgba(60, 64, 67, 0.15);\n",
              "        fill: #174EA6;\n",
              "      }\n",
              "\n",
              "      [theme=dark] .colab-df-generate {\n",
              "        background-color: #3B4455;\n",
              "        fill: #D2E3FC;\n",
              "      }\n",
              "\n",
              "      [theme=dark] .colab-df-generate:hover {\n",
              "        background-color: #434B5C;\n",
              "        box-shadow: 0px 1px 3px 1px rgba(0, 0, 0, 0.15);\n",
              "        filter: drop-shadow(0px 1px 2px rgba(0, 0, 0, 0.3));\n",
              "        fill: #FFFFFF;\n",
              "      }\n",
              "    </style>\n",
              "    <button class=\"colab-df-generate\" onclick=\"generateWithVariable('vif_data')\"\n",
              "            title=\"Generate code using this dataframe.\"\n",
              "            style=\"display:none;\">\n",
              "\n",
              "  <svg xmlns=\"http://www.w3.org/2000/svg\" height=\"24px\"viewBox=\"0 0 24 24\"\n",
              "       width=\"24px\">\n",
              "    <path d=\"M7,19H8.4L18.45,9,17,7.55,7,17.6ZM5,21V16.75L18.45,3.32a2,2,0,0,1,2.83,0l1.4,1.43a1.91,1.91,0,0,1,.58,1.4,1.91,1.91,0,0,1-.58,1.4L9.25,21ZM18.45,9,17,7.55Zm-12,3A5.31,5.31,0,0,0,4.9,8.1,5.31,5.31,0,0,0,1,6.5,5.31,5.31,0,0,0,4.9,4.9,5.31,5.31,0,0,0,6.5,1,5.31,5.31,0,0,0,8.1,4.9,5.31,5.31,0,0,0,12,6.5,5.46,5.46,0,0,0,6.5,12Z\"/>\n",
              "  </svg>\n",
              "    </button>\n",
              "    <script>\n",
              "      (() => {\n",
              "      const buttonEl =\n",
              "        document.querySelector('#id_64a37ed2-6d88-4a0c-827d-22b3f6e1ac74 button.colab-df-generate');\n",
              "      buttonEl.style.display =\n",
              "        google.colab.kernel.accessAllowed ? 'block' : 'none';\n",
              "\n",
              "      buttonEl.onclick = () => {\n",
              "        google.colab.notebook.generateWithVariable('vif_data');\n",
              "      }\n",
              "      })();\n",
              "    </script>\n",
              "  </div>\n",
              "\n",
              "    </div>\n",
              "  </div>\n"
            ],
            "application/vnd.google.colaboratory.intrinsic+json": {
              "type": "dataframe",
              "variable_name": "vif_data",
              "repr_error": "Out of range float values are not JSON compliant: inf"
            }
          },
          "metadata": {},
          "execution_count": 40
        }
      ]
    },
    {
      "cell_type": "markdown",
      "source": [
        "**Durbin-Watson to check autocorrelation**\n",
        "* The Durbin-Watson Statistic is 2.004 suggesting that the **assumption of autocorrelation passes and there is essentially no autocorrelation between residuals**.  "
      ],
      "metadata": {
        "id": "t9RyZcuk1vKJ"
      }
    },
    {
      "cell_type": "code",
      "source": [
        "  # Code from online after asking how to do Durbin-Watson in Python\n",
        "  dw_statistic = stattools.durbin_watson(residuals)\n",
        "  print(\"Durbin-Watson Statistic:\", dw_statistic)"
      ],
      "metadata": {
        "colab": {
          "base_uri": "https://localhost:8080/"
        },
        "id": "l6V-JgA01VMb",
        "outputId": "306626d0-7662-4586-d8bf-806232ca61ef"
      },
      "execution_count": 43,
      "outputs": [
        {
          "output_type": "stream",
          "name": "stdout",
          "text": [
            "Durbin-Watson Statistic: 2.0043473189317376\n"
          ]
        }
      ]
    },
    {
      "cell_type": "markdown",
      "source": [
        "### ii. Logistic Regression\n",
        "\n",
        "***Assumptions***:\n",
        "* **Linearity** ❌\n",
        "* **No multicollinearity** ❌ - Same as in Linear regression in Part i. above, the VIFs will be the same and did not pass\n",
        "* **Independence of observations** ✅ - Observations are independent by design of the data collection\n",
        "* **No influential outliers** ✅\n",
        "* **Absence of perfect separation** ✅\n",
        "* **Large sample size** ✅"
      ],
      "metadata": {
        "id": "3wqXCIu_vWy2"
      }
    },
    {
      "cell_type": "code",
      "source": [
        "#logistic model\n",
        "log_model = smf.logit(formula=formula, data=data).fit()\n"
      ],
      "metadata": {
        "colab": {
          "base_uri": "https://localhost:8080/"
        },
        "id": "PnURatrwvk9N",
        "outputId": "f47cfdb8-070b-425e-e2ef-d3a822e9fa06"
      },
      "execution_count": 46,
      "outputs": [
        {
          "output_type": "stream",
          "name": "stdout",
          "text": [
            "Optimization terminated successfully.\n",
            "         Current function value: 0.414269\n",
            "         Iterations 8\n"
          ]
        }
      ]
    },
    {
      "cell_type": "markdown",
      "source": [
        "**Box-Tidwell Test**"
      ],
      "metadata": {
        "id": "d6u95i75G21l"
      }
    },
    {
      "cell_type": "markdown",
      "source": [
        "*Note:* Referenced ChatGPT for ways to test linearity for logistic regression and was explained what a Box-Tidwell Test was. I then implemented the transformations and new model on my own.  \n",
        "\n",
        "* Using the Box-Tidwell test to add an interaction term for each continuous predictor (tenure, MonthlyCharges, and TotalCharges) where the predictor is multiplied by it's natural log, I then ran a new logit model and evaluated the associated coefficients and p-values for those 3 interaction terms. The p-value for 'tenure' transformed variable is $1.5e-9$ which is statistically significant $<0.05$ suggesting that the assumption of linearity for tenure is violated. The p-value for 'MonthlyCharges' is 0.036 and for 'TotalCharges' is 0.024 which also fall under the threshold for statistical significance so the **assumption of linearity does not hold**."
      ],
      "metadata": {
        "id": "QQKLTjswIubc"
      }
    },
    {
      "cell_type": "code",
      "source": [
        "# creating box-tidwell interaction terms for the 2 continuous predictors\n",
        "data[\"cont_1\"] = data[\"tenure\"] * np.log(data[\"tenure\"])\n",
        "data[\"cont_2\"] = data[\"MonthlyCharges\"] * np.log(data[\"MonthlyCharges\"])\n",
        "data[\"cont_3\"] = data[\"TotalCharges\"] * np.log(data[\"TotalCharges\"])\n",
        "box_tid_formula = formula + \" + cont_1 + cont_2 + cont_3\""
      ],
      "metadata": {
        "id": "fdX_ocwd9CjP"
      },
      "execution_count": 78,
      "outputs": []
    },
    {
      "cell_type": "code",
      "source": [
        "# run new model with the interaction terms\n",
        "bt_logit = smf.logit(formula=box_tid_formula, data=data).fit()\n",
        "bt_logit.summary()"
      ],
      "metadata": {
        "colab": {
          "base_uri": "https://localhost:8080/",
          "height": 881
        },
        "id": "xV56dX6bIod2",
        "outputId": "9538703f-2cbf-4059-b2b4-cde496c3ed57"
      },
      "execution_count": 79,
      "outputs": [
        {
          "output_type": "stream",
          "name": "stdout",
          "text": [
            "Optimization terminated successfully.\n",
            "         Current function value: 0.408493\n",
            "         Iterations 8\n"
          ]
        },
        {
          "output_type": "execute_result",
          "data": {
            "text/plain": [
              "<class 'statsmodels.iolib.summary.Summary'>\n",
              "\"\"\"\n",
              "                           Logit Regression Results                           \n",
              "==============================================================================\n",
              "Dep. Variable:                  Churn   No. Observations:                 7032\n",
              "Model:                          Logit   Df Residuals:                     7005\n",
              "Method:                           MLE   Df Model:                           26\n",
              "Date:                Sun, 14 Sep 2025   Pseudo R-squ.:                  0.2945\n",
              "Time:                        17:46:33   Log-Likelihood:                -2872.5\n",
              "converged:                       True   LL-Null:                       -4071.7\n",
              "Covariance Type:            nonrobust   LLR p-value:                     0.000\n",
              "============================================================================================================\n",
              "                                               coef    std err          z      P>|z|      [0.025      0.975]\n",
              "------------------------------------------------------------------------------------------------------------\n",
              "Intercept                                    2.1969   2.15e+06   1.02e-06      1.000   -4.21e+06    4.21e+06\n",
              "gender[T.Male]                              -0.0239      0.066     -0.364      0.716      -0.152       0.105\n",
              "MultipleLines[T.No phone service]            0.9328   2.15e+06   4.34e-07      1.000   -4.21e+06    4.21e+06\n",
              "MultipleLines[T.Yes]                         0.5140      0.179      2.867      0.004       0.163       0.865\n",
              "InternetService[T.Fiber optic]               1.7730      0.804      2.205      0.027       0.197       3.349\n",
              "InternetService[T.No]                       -1.1041   9.07e+06  -1.22e-07      1.000   -1.78e+07    1.78e+07\n",
              "OnlineBackup[T.No internet service]         -1.1041   9.07e+06  -1.22e-07      1.000   -1.78e+07    1.78e+07\n",
              "OnlineBackup[T.Yes]                          0.0312      0.177      0.176      0.860      -0.315       0.378\n",
              "Contract[T.One year]                        -0.6760      0.110     -6.137      0.000      -0.892      -0.460\n",
              "Contract[T.Two year]                        -1.6722      0.188     -8.872      0.000      -2.042      -1.303\n",
              "PaymentMethod[T.Credit card (automatic)]    -0.0781      0.114     -0.685      0.493      -0.302       0.145\n",
              "PaymentMethod[T.Electronic check]            0.2735      0.095      2.876      0.004       0.087       0.460\n",
              "PaymentMethod[T.Mailed check]               -0.1114      0.117     -0.951      0.342      -0.341       0.118\n",
              "SeniorCitizen                                0.2233      0.085      2.626      0.009       0.057       0.390\n",
              "Partner                                      0.0219      0.079      0.278      0.781      -0.133       0.176\n",
              "Dependents                                  -0.1227      0.091     -1.356      0.175      -0.300       0.055\n",
              "tenure                                      -0.3065      0.049     -6.286      0.000      -0.402      -0.211\n",
              "PhoneService                                 1.2641   2.15e+06   5.89e-07      1.000   -4.21e+06    4.21e+06\n",
              "OnlineSecurity                              -0.1602      0.180     -0.888      0.374      -0.514       0.193\n",
              "DeviceProtection                             0.1847      0.178      1.040      0.299      -0.164       0.533\n",
              "TechSupport                                 -0.1228      0.182     -0.674      0.500      -0.480       0.234\n",
              "StreamingTV                                  0.6233      0.329      1.895      0.058      -0.021       1.268\n",
              "StreamingMovies                              0.6281      0.329      1.909      0.056      -0.017       1.273\n",
              "PaperlessBilling                             0.3542      0.076      4.676      0.000       0.206       0.503\n",
              "MonthlyCharges                              -0.1791      0.076     -2.366      0.018      -0.327      -0.031\n",
              "TotalCharges                                 0.0025      0.001      2.203      0.028       0.000       0.005\n",
              "cont_1                                       0.0613      0.010      6.041      0.000       0.041       0.081\n",
              "cont_2                                       0.0271      0.013      2.102      0.036       0.002       0.052\n",
              "cont_3                                      -0.0003      0.000     -2.255      0.024      -0.001    -3.6e-05\n",
              "============================================================================================================\n",
              "\"\"\""
            ],
            "text/html": [
              "<table class=\"simpletable\">\n",
              "<caption>Logit Regression Results</caption>\n",
              "<tr>\n",
              "  <th>Dep. Variable:</th>         <td>Churn</td>      <th>  No. Observations:  </th>  <td>  7032</td> \n",
              "</tr>\n",
              "<tr>\n",
              "  <th>Model:</th>                 <td>Logit</td>      <th>  Df Residuals:      </th>  <td>  7005</td> \n",
              "</tr>\n",
              "<tr>\n",
              "  <th>Method:</th>                 <td>MLE</td>       <th>  Df Model:          </th>  <td>    26</td> \n",
              "</tr>\n",
              "<tr>\n",
              "  <th>Date:</th>            <td>Sun, 14 Sep 2025</td> <th>  Pseudo R-squ.:     </th>  <td>0.2945</td> \n",
              "</tr>\n",
              "<tr>\n",
              "  <th>Time:</th>                <td>17:46:33</td>     <th>  Log-Likelihood:    </th> <td> -2872.5</td>\n",
              "</tr>\n",
              "<tr>\n",
              "  <th>converged:</th>             <td>True</td>       <th>  LL-Null:           </th> <td> -4071.7</td>\n",
              "</tr>\n",
              "<tr>\n",
              "  <th>Covariance Type:</th>     <td>nonrobust</td>    <th>  LLR p-value:       </th>  <td> 0.000</td> \n",
              "</tr>\n",
              "</table>\n",
              "<table class=\"simpletable\">\n",
              "<tr>\n",
              "                      <td></td>                        <th>coef</th>     <th>std err</th>      <th>z</th>      <th>P>|z|</th>  <th>[0.025</th>    <th>0.975]</th>  \n",
              "</tr>\n",
              "<tr>\n",
              "  <th>Intercept</th>                                <td>    2.1969</td> <td> 2.15e+06</td> <td> 1.02e-06</td> <td> 1.000</td> <td>-4.21e+06</td> <td> 4.21e+06</td>\n",
              "</tr>\n",
              "<tr>\n",
              "  <th>gender[T.Male]</th>                           <td>   -0.0239</td> <td>    0.066</td> <td>   -0.364</td> <td> 0.716</td> <td>   -0.152</td> <td>    0.105</td>\n",
              "</tr>\n",
              "<tr>\n",
              "  <th>MultipleLines[T.No phone service]</th>        <td>    0.9328</td> <td> 2.15e+06</td> <td> 4.34e-07</td> <td> 1.000</td> <td>-4.21e+06</td> <td> 4.21e+06</td>\n",
              "</tr>\n",
              "<tr>\n",
              "  <th>MultipleLines[T.Yes]</th>                     <td>    0.5140</td> <td>    0.179</td> <td>    2.867</td> <td> 0.004</td> <td>    0.163</td> <td>    0.865</td>\n",
              "</tr>\n",
              "<tr>\n",
              "  <th>InternetService[T.Fiber optic]</th>           <td>    1.7730</td> <td>    0.804</td> <td>    2.205</td> <td> 0.027</td> <td>    0.197</td> <td>    3.349</td>\n",
              "</tr>\n",
              "<tr>\n",
              "  <th>InternetService[T.No]</th>                    <td>   -1.1041</td> <td> 9.07e+06</td> <td>-1.22e-07</td> <td> 1.000</td> <td>-1.78e+07</td> <td> 1.78e+07</td>\n",
              "</tr>\n",
              "<tr>\n",
              "  <th>OnlineBackup[T.No internet service]</th>      <td>   -1.1041</td> <td> 9.07e+06</td> <td>-1.22e-07</td> <td> 1.000</td> <td>-1.78e+07</td> <td> 1.78e+07</td>\n",
              "</tr>\n",
              "<tr>\n",
              "  <th>OnlineBackup[T.Yes]</th>                      <td>    0.0312</td> <td>    0.177</td> <td>    0.176</td> <td> 0.860</td> <td>   -0.315</td> <td>    0.378</td>\n",
              "</tr>\n",
              "<tr>\n",
              "  <th>Contract[T.One year]</th>                     <td>   -0.6760</td> <td>    0.110</td> <td>   -6.137</td> <td> 0.000</td> <td>   -0.892</td> <td>   -0.460</td>\n",
              "</tr>\n",
              "<tr>\n",
              "  <th>Contract[T.Two year]</th>                     <td>   -1.6722</td> <td>    0.188</td> <td>   -8.872</td> <td> 0.000</td> <td>   -2.042</td> <td>   -1.303</td>\n",
              "</tr>\n",
              "<tr>\n",
              "  <th>PaymentMethod[T.Credit card (automatic)]</th> <td>   -0.0781</td> <td>    0.114</td> <td>   -0.685</td> <td> 0.493</td> <td>   -0.302</td> <td>    0.145</td>\n",
              "</tr>\n",
              "<tr>\n",
              "  <th>PaymentMethod[T.Electronic check]</th>        <td>    0.2735</td> <td>    0.095</td> <td>    2.876</td> <td> 0.004</td> <td>    0.087</td> <td>    0.460</td>\n",
              "</tr>\n",
              "<tr>\n",
              "  <th>PaymentMethod[T.Mailed check]</th>            <td>   -0.1114</td> <td>    0.117</td> <td>   -0.951</td> <td> 0.342</td> <td>   -0.341</td> <td>    0.118</td>\n",
              "</tr>\n",
              "<tr>\n",
              "  <th>SeniorCitizen</th>                            <td>    0.2233</td> <td>    0.085</td> <td>    2.626</td> <td> 0.009</td> <td>    0.057</td> <td>    0.390</td>\n",
              "</tr>\n",
              "<tr>\n",
              "  <th>Partner</th>                                  <td>    0.0219</td> <td>    0.079</td> <td>    0.278</td> <td> 0.781</td> <td>   -0.133</td> <td>    0.176</td>\n",
              "</tr>\n",
              "<tr>\n",
              "  <th>Dependents</th>                               <td>   -0.1227</td> <td>    0.091</td> <td>   -1.356</td> <td> 0.175</td> <td>   -0.300</td> <td>    0.055</td>\n",
              "</tr>\n",
              "<tr>\n",
              "  <th>tenure</th>                                   <td>   -0.3065</td> <td>    0.049</td> <td>   -6.286</td> <td> 0.000</td> <td>   -0.402</td> <td>   -0.211</td>\n",
              "</tr>\n",
              "<tr>\n",
              "  <th>PhoneService</th>                             <td>    1.2641</td> <td> 2.15e+06</td> <td> 5.89e-07</td> <td> 1.000</td> <td>-4.21e+06</td> <td> 4.21e+06</td>\n",
              "</tr>\n",
              "<tr>\n",
              "  <th>OnlineSecurity</th>                           <td>   -0.1602</td> <td>    0.180</td> <td>   -0.888</td> <td> 0.374</td> <td>   -0.514</td> <td>    0.193</td>\n",
              "</tr>\n",
              "<tr>\n",
              "  <th>DeviceProtection</th>                         <td>    0.1847</td> <td>    0.178</td> <td>    1.040</td> <td> 0.299</td> <td>   -0.164</td> <td>    0.533</td>\n",
              "</tr>\n",
              "<tr>\n",
              "  <th>TechSupport</th>                              <td>   -0.1228</td> <td>    0.182</td> <td>   -0.674</td> <td> 0.500</td> <td>   -0.480</td> <td>    0.234</td>\n",
              "</tr>\n",
              "<tr>\n",
              "  <th>StreamingTV</th>                              <td>    0.6233</td> <td>    0.329</td> <td>    1.895</td> <td> 0.058</td> <td>   -0.021</td> <td>    1.268</td>\n",
              "</tr>\n",
              "<tr>\n",
              "  <th>StreamingMovies</th>                          <td>    0.6281</td> <td>    0.329</td> <td>    1.909</td> <td> 0.056</td> <td>   -0.017</td> <td>    1.273</td>\n",
              "</tr>\n",
              "<tr>\n",
              "  <th>PaperlessBilling</th>                         <td>    0.3542</td> <td>    0.076</td> <td>    4.676</td> <td> 0.000</td> <td>    0.206</td> <td>    0.503</td>\n",
              "</tr>\n",
              "<tr>\n",
              "  <th>MonthlyCharges</th>                           <td>   -0.1791</td> <td>    0.076</td> <td>   -2.366</td> <td> 0.018</td> <td>   -0.327</td> <td>   -0.031</td>\n",
              "</tr>\n",
              "<tr>\n",
              "  <th>TotalCharges</th>                             <td>    0.0025</td> <td>    0.001</td> <td>    2.203</td> <td> 0.028</td> <td>    0.000</td> <td>    0.005</td>\n",
              "</tr>\n",
              "<tr>\n",
              "  <th>cont_1</th>                                   <td>    0.0613</td> <td>    0.010</td> <td>    6.041</td> <td> 0.000</td> <td>    0.041</td> <td>    0.081</td>\n",
              "</tr>\n",
              "<tr>\n",
              "  <th>cont_2</th>                                   <td>    0.0271</td> <td>    0.013</td> <td>    2.102</td> <td> 0.036</td> <td>    0.002</td> <td>    0.052</td>\n",
              "</tr>\n",
              "<tr>\n",
              "  <th>cont_3</th>                                   <td>   -0.0003</td> <td>    0.000</td> <td>   -2.255</td> <td> 0.024</td> <td>   -0.001</td> <td> -3.6e-05</td>\n",
              "</tr>\n",
              "</table>"
            ],
            "text/latex": "\\begin{center}\n\\begin{tabular}{lclc}\n\\toprule\n\\textbf{Dep. Variable:}                           &      Churn       & \\textbf{  No. Observations:  } &     7032    \\\\\n\\textbf{Model:}                                   &      Logit       & \\textbf{  Df Residuals:      } &     7005    \\\\\n\\textbf{Method:}                                  &       MLE        & \\textbf{  Df Model:          } &       26    \\\\\n\\textbf{Date:}                                    & Sun, 14 Sep 2025 & \\textbf{  Pseudo R-squ.:     } &   0.2945    \\\\\n\\textbf{Time:}                                    &     17:46:33     & \\textbf{  Log-Likelihood:    } &   -2872.5   \\\\\n\\textbf{converged:}                               &       True       & \\textbf{  LL-Null:           } &   -4071.7   \\\\\n\\textbf{Covariance Type:}                         &    nonrobust     & \\textbf{  LLR p-value:       } &    0.000    \\\\\n\\bottomrule\n\\end{tabular}\n\\begin{tabular}{lcccccc}\n                                                  & \\textbf{coef} & \\textbf{std err} & \\textbf{z} & \\textbf{P$> |$z$|$} & \\textbf{[0.025} & \\textbf{0.975]}  \\\\\n\\midrule\n\\textbf{Intercept}                                &       2.1969  &     2.15e+06     &  1.02e-06  &         1.000        &    -4.21e+06    &     4.21e+06     \\\\\n\\textbf{gender[T.Male]}                           &      -0.0239  &        0.066     &    -0.364  &         0.716        &       -0.152    &        0.105     \\\\\n\\textbf{MultipleLines[T.No phone service]}        &       0.9328  &     2.15e+06     &  4.34e-07  &         1.000        &    -4.21e+06    &     4.21e+06     \\\\\n\\textbf{MultipleLines[T.Yes]}                     &       0.5140  &        0.179     &     2.867  &         0.004        &        0.163    &        0.865     \\\\\n\\textbf{InternetService[T.Fiber optic]}           &       1.7730  &        0.804     &     2.205  &         0.027        &        0.197    &        3.349     \\\\\n\\textbf{InternetService[T.No]}                    &      -1.1041  &     9.07e+06     & -1.22e-07  &         1.000        &    -1.78e+07    &     1.78e+07     \\\\\n\\textbf{OnlineBackup[T.No internet service]}      &      -1.1041  &     9.07e+06     & -1.22e-07  &         1.000        &    -1.78e+07    &     1.78e+07     \\\\\n\\textbf{OnlineBackup[T.Yes]}                      &       0.0312  &        0.177     &     0.176  &         0.860        &       -0.315    &        0.378     \\\\\n\\textbf{Contract[T.One year]}                     &      -0.6760  &        0.110     &    -6.137  &         0.000        &       -0.892    &       -0.460     \\\\\n\\textbf{Contract[T.Two year]}                     &      -1.6722  &        0.188     &    -8.872  &         0.000        &       -2.042    &       -1.303     \\\\\n\\textbf{PaymentMethod[T.Credit card (automatic)]} &      -0.0781  &        0.114     &    -0.685  &         0.493        &       -0.302    &        0.145     \\\\\n\\textbf{PaymentMethod[T.Electronic check]}        &       0.2735  &        0.095     &     2.876  &         0.004        &        0.087    &        0.460     \\\\\n\\textbf{PaymentMethod[T.Mailed check]}            &      -0.1114  &        0.117     &    -0.951  &         0.342        &       -0.341    &        0.118     \\\\\n\\textbf{SeniorCitizen}                            &       0.2233  &        0.085     &     2.626  &         0.009        &        0.057    &        0.390     \\\\\n\\textbf{Partner}                                  &       0.0219  &        0.079     &     0.278  &         0.781        &       -0.133    &        0.176     \\\\\n\\textbf{Dependents}                               &      -0.1227  &        0.091     &    -1.356  &         0.175        &       -0.300    &        0.055     \\\\\n\\textbf{tenure}                                   &      -0.3065  &        0.049     &    -6.286  &         0.000        &       -0.402    &       -0.211     \\\\\n\\textbf{PhoneService}                             &       1.2641  &     2.15e+06     &  5.89e-07  &         1.000        &    -4.21e+06    &     4.21e+06     \\\\\n\\textbf{OnlineSecurity}                           &      -0.1602  &        0.180     &    -0.888  &         0.374        &       -0.514    &        0.193     \\\\\n\\textbf{DeviceProtection}                         &       0.1847  &        0.178     &     1.040  &         0.299        &       -0.164    &        0.533     \\\\\n\\textbf{TechSupport}                              &      -0.1228  &        0.182     &    -0.674  &         0.500        &       -0.480    &        0.234     \\\\\n\\textbf{StreamingTV}                              &       0.6233  &        0.329     &     1.895  &         0.058        &       -0.021    &        1.268     \\\\\n\\textbf{StreamingMovies}                          &       0.6281  &        0.329     &     1.909  &         0.056        &       -0.017    &        1.273     \\\\\n\\textbf{PaperlessBilling}                         &       0.3542  &        0.076     &     4.676  &         0.000        &        0.206    &        0.503     \\\\\n\\textbf{MonthlyCharges}                           &      -0.1791  &        0.076     &    -2.366  &         0.018        &       -0.327    &       -0.031     \\\\\n\\textbf{TotalCharges}                             &       0.0025  &        0.001     &     2.203  &         0.028        &        0.000    &        0.005     \\\\\n\\textbf{cont\\_1}                                  &       0.0613  &        0.010     &     6.041  &         0.000        &        0.041    &        0.081     \\\\\n\\textbf{cont\\_2}                                  &       0.0271  &        0.013     &     2.102  &         0.036        &        0.002    &        0.052     \\\\\n\\textbf{cont\\_3}                                  &      -0.0003  &        0.000     &    -2.255  &         0.024        &       -0.001    &     -3.6e-05     \\\\\n\\bottomrule\n\\end{tabular}\n%\\caption{Logit Regression Results}\n\\end{center}"
          },
          "metadata": {},
          "execution_count": 79
        }
      ]
    },
    {
      "cell_type": "markdown",
      "source": [
        "**Cook's Distance for Influential Points**\n",
        "* There seems to be maybe 2 points that appear much higher than the others in their Cook's Distance suggesting they may be Influential Outliers, though their values of 0.12 are still vastly below 0.5 or 1 which seem to be thresholds for influential points according to my Google searches and ChatGPT (\"Rule of thumb: > 1 is problematic, but even 0.5 could be influential\"). The model could be run without those 2 points, but their low Cook's Distance suggest that **the assumption is not necessarily violated**"
      ],
      "metadata": {
        "id": "M4-7RaQ6FsA2"
      }
    },
    {
      "cell_type": "code",
      "source": [
        "influence = log_model.get_influence()\n",
        "summary_frame = influence.summary_frame()\n",
        "\n",
        "# Cook's Distance\n",
        "summary_frame[\"cooks_d\"] = influence.cooks_distance[0]\n",
        "plt.stem(summary_frame[\"cooks_d\"], markerfmt=\",\")\n",
        "plt.title(\"Cook's Distance (Logit)\")\n",
        "plt.show()\n",
        "\n"
      ],
      "metadata": {
        "colab": {
          "base_uri": "https://localhost:8080/",
          "height": 521
        },
        "id": "_Gdw3D_N9toU",
        "outputId": "b83ba07b-a3ac-4188-9973-73a8d55a2c8b"
      },
      "execution_count": 66,
      "outputs": [
        {
          "output_type": "stream",
          "name": "stderr",
          "text": [
            "/usr/local/lib/python3.12/dist-packages/statsmodels/base/_prediction_inference.py:615: RuntimeWarning: invalid value encountered in sqrt\n",
            "  linpred_se=np.sqrt(linpred_var),\n",
            "/usr/local/lib/python3.12/dist-packages/statsmodels/base/_prediction_inference.py:41: RuntimeWarning: invalid value encountered in sqrt\n",
            "  return np.sqrt(self.var_pred)\n"
          ]
        },
        {
          "output_type": "display_data",
          "data": {
            "text/plain": [
              "<Figure size 640x480 with 1 Axes>"
            ],
            "image/png": "[encoded data removed]"
          },
          "metadata": {}
        }
      ]
    },
    {
      "cell_type": "markdown",
      "source": [
        "**Perfect Separation Check**  \n",
        "* Looking at the coefficients for each predictor, none of the values are extreme and are all $<|2|$. I looked online for how to check for this assumption, and the most common answer was to examine the coefficient estimates as infinite or extremely large estimates would indicate perfect separation. Since none of the coefficients for this model are large, the **assumption of no perfect separation holds**."
      ],
      "metadata": {
        "id": "_-NZQqjDFCiz"
      }
    },
    {
      "cell_type": "code",
      "source": [
        "log_model.summary()"
      ],
      "metadata": {
        "colab": {
          "base_uri": "https://localhost:8080/",
          "height": 765
        },
        "id": "tVVLmLVeCTm8",
        "outputId": "8e3f61e1-e3a6-40a3-bc6e-9f906d9161e0"
      },
      "execution_count": 53,
      "outputs": [
        {
          "output_type": "execute_result",
          "data": {
            "text/plain": [
              "<class 'statsmodels.iolib.summary.Summary'>\n",
              "\"\"\"\n",
              "                           Logit Regression Results                           \n",
              "==============================================================================\n",
              "Dep. Variable:                  Churn   No. Observations:                 7032\n",
              "Model:                          Logit   Df Residuals:                     7008\n",
              "Method:                           MLE   Df Model:                           23\n",
              "Date:                Sun, 14 Sep 2025   Pseudo R-squ.:                  0.2845\n",
              "Time:                        16:25:35   Log-Likelihood:                -2913.1\n",
              "converged:                       True   LL-Null:                       -4071.7\n",
              "Covariance Type:            nonrobust   LLR p-value:                     0.000\n",
              "============================================================================================================\n",
              "                                               coef    std err          z      P>|z|      [0.025      0.975]\n",
              "------------------------------------------------------------------------------------------------------------\n",
              "Intercept                                    0.8340      0.448      1.861      0.063      -0.045       1.713\n",
              "gender[T.Male]                              -0.0218      0.065     -0.337      0.736      -0.149       0.105\n",
              "MultipleLines[T.No phone service]            0.3313        nan        nan        nan         nan         nan\n",
              "MultipleLines[T.Yes]                         0.4484      0.177      2.530      0.011       0.101       0.796\n",
              "InternetService[T.Fiber optic]               1.7475      0.798      2.190      0.029       0.183       3.312\n",
              "InternetService[T.No]                       -0.8931    2.2e+07  -4.06e-08      1.000   -4.31e+07    4.31e+07\n",
              "OnlineBackup[T.No internet service]         -0.8931    2.2e+07  -4.06e-08      1.000   -4.31e+07    4.31e+07\n",
              "OnlineBackup[T.Yes]                          0.0260      0.175      0.148      0.882      -0.318       0.370\n",
              "Contract[T.One year]                        -0.6608      0.108     -6.142      0.000      -0.872      -0.450\n",
              "Contract[T.Two year]                        -1.3571      0.176     -7.691      0.000      -1.703      -1.011\n",
              "PaymentMethod[T.Credit card (automatic)]    -0.0878      0.114     -0.770      0.442      -0.311       0.136\n",
              "PaymentMethod[T.Electronic check]            0.3045      0.094      3.222      0.001       0.119       0.490\n",
              "PaymentMethod[T.Mailed check]               -0.0576      0.115     -0.501      0.616      -0.283       0.168\n",
              "SeniorCitizen                                0.2168      0.085      2.564      0.010       0.051       0.382\n",
              "Partner                                     -0.0004      0.078     -0.005      0.996      -0.153       0.152\n",
              "Dependents                                  -0.1485      0.090     -1.655      0.098      -0.324       0.027\n",
              "tenure                                      -0.0606      0.006     -9.716      0.000      -0.073      -0.048\n",
              "PhoneService                                 0.5027      0.590      0.852      0.394      -0.654       1.660\n",
              "OnlineSecurity                              -0.2054      0.179     -1.150      0.250      -0.556       0.145\n",
              "DeviceProtection                             0.1474      0.176      0.836      0.403      -0.198       0.493\n",
              "TechSupport                                 -0.1805      0.181     -0.999      0.318      -0.534       0.173\n",
              "StreamingTV                                  0.5905      0.326      1.810      0.070      -0.049       1.230\n",
              "StreamingMovies                              0.5993      0.327      1.834      0.067      -0.041       1.240\n",
              "PaperlessBilling                             0.3424      0.074      4.596      0.000       0.196       0.488\n",
              "MonthlyCharges                              -0.0403      0.032     -1.270      0.204      -0.103       0.022\n",
              "TotalCharges                                 0.0003   7.06e-05      4.657      0.000       0.000       0.000\n",
              "============================================================================================================\n",
              "\"\"\""
            ],
            "text/html": [
              "<table class=\"simpletable\">\n",
              "<caption>Logit Regression Results</caption>\n",
              "<tr>\n",
              "  <th>Dep. Variable:</th>         <td>Churn</td>      <th>  No. Observations:  </th>  <td>  7032</td> \n",
              "</tr>\n",
              "<tr>\n",
              "  <th>Model:</th>                 <td>Logit</td>      <th>  Df Residuals:      </th>  <td>  7008</td> \n",
              "</tr>\n",
              "<tr>\n",
              "  <th>Method:</th>                 <td>MLE</td>       <th>  Df Model:          </th>  <td>    23</td> \n",
              "</tr>\n",
              "<tr>\n",
              "  <th>Date:</th>            <td>Sun, 14 Sep 2025</td> <th>  Pseudo R-squ.:     </th>  <td>0.2845</td> \n",
              "</tr>\n",
              "<tr>\n",
              "  <th>Time:</th>                <td>16:25:35</td>     <th>  Log-Likelihood:    </th> <td> -2913.1</td>\n",
              "</tr>\n",
              "<tr>\n",
              "  <th>converged:</th>             <td>True</td>       <th>  LL-Null:           </th> <td> -4071.7</td>\n",
              "</tr>\n",
              "<tr>\n",
              "  <th>Covariance Type:</th>     <td>nonrobust</td>    <th>  LLR p-value:       </th>  <td> 0.000</td> \n",
              "</tr>\n",
              "</table>\n",
              "<table class=\"simpletable\">\n",
              "<tr>\n",
              "                      <td></td>                        <th>coef</th>     <th>std err</th>      <th>z</th>      <th>P>|z|</th>  <th>[0.025</th>    <th>0.975]</th>  \n",
              "</tr>\n",
              "<tr>\n",
              "  <th>Intercept</th>                                <td>    0.8340</td> <td>    0.448</td> <td>    1.861</td> <td> 0.063</td> <td>   -0.045</td> <td>    1.713</td>\n",
              "</tr>\n",
              "<tr>\n",
              "  <th>gender[T.Male]</th>                           <td>   -0.0218</td> <td>    0.065</td> <td>   -0.337</td> <td> 0.736</td> <td>   -0.149</td> <td>    0.105</td>\n",
              "</tr>\n",
              "<tr>\n",
              "  <th>MultipleLines[T.No phone service]</th>        <td>    0.3313</td> <td>      nan</td> <td>      nan</td> <td>   nan</td> <td>      nan</td> <td>      nan</td>\n",
              "</tr>\n",
              "<tr>\n",
              "  <th>MultipleLines[T.Yes]</th>                     <td>    0.4484</td> <td>    0.177</td> <td>    2.530</td> <td> 0.011</td> <td>    0.101</td> <td>    0.796</td>\n",
              "</tr>\n",
              "<tr>\n",
              "  <th>InternetService[T.Fiber optic]</th>           <td>    1.7475</td> <td>    0.798</td> <td>    2.190</td> <td> 0.029</td> <td>    0.183</td> <td>    3.312</td>\n",
              "</tr>\n",
              "<tr>\n",
              "  <th>InternetService[T.No]</th>                    <td>   -0.8931</td> <td>  2.2e+07</td> <td>-4.06e-08</td> <td> 1.000</td> <td>-4.31e+07</td> <td> 4.31e+07</td>\n",
              "</tr>\n",
              "<tr>\n",
              "  <th>OnlineBackup[T.No internet service]</th>      <td>   -0.8931</td> <td>  2.2e+07</td> <td>-4.06e-08</td> <td> 1.000</td> <td>-4.31e+07</td> <td> 4.31e+07</td>\n",
              "</tr>\n",
              "<tr>\n",
              "  <th>OnlineBackup[T.Yes]</th>                      <td>    0.0260</td> <td>    0.175</td> <td>    0.148</td> <td> 0.882</td> <td>   -0.318</td> <td>    0.370</td>\n",
              "</tr>\n",
              "<tr>\n",
              "  <th>Contract[T.One year]</th>                     <td>   -0.6608</td> <td>    0.108</td> <td>   -6.142</td> <td> 0.000</td> <td>   -0.872</td> <td>   -0.450</td>\n",
              "</tr>\n",
              "<tr>\n",
              "  <th>Contract[T.Two year]</th>                     <td>   -1.3571</td> <td>    0.176</td> <td>   -7.691</td> <td> 0.000</td> <td>   -1.703</td> <td>   -1.011</td>\n",
              "</tr>\n",
              "<tr>\n",
              "  <th>PaymentMethod[T.Credit card (automatic)]</th> <td>   -0.0878</td> <td>    0.114</td> <td>   -0.770</td> <td> 0.442</td> <td>   -0.311</td> <td>    0.136</td>\n",
              "</tr>\n",
              "<tr>\n",
              "  <th>PaymentMethod[T.Electronic check]</th>        <td>    0.3045</td> <td>    0.094</td> <td>    3.222</td> <td> 0.001</td> <td>    0.119</td> <td>    0.490</td>\n",
              "</tr>\n",
              "<tr>\n",
              "  <th>PaymentMethod[T.Mailed check]</th>            <td>   -0.0576</td> <td>    0.115</td> <td>   -0.501</td> <td> 0.616</td> <td>   -0.283</td> <td>    0.168</td>\n",
              "</tr>\n",
              "<tr>\n",
              "  <th>SeniorCitizen</th>                            <td>    0.2168</td> <td>    0.085</td> <td>    2.564</td> <td> 0.010</td> <td>    0.051</td> <td>    0.382</td>\n",
              "</tr>\n",
              "<tr>\n",
              "  <th>Partner</th>                                  <td>   -0.0004</td> <td>    0.078</td> <td>   -0.005</td> <td> 0.996</td> <td>   -0.153</td> <td>    0.152</td>\n",
              "</tr>\n",
              "<tr>\n",
              "  <th>Dependents</th>                               <td>   -0.1485</td> <td>    0.090</td> <td>   -1.655</td> <td> 0.098</td> <td>   -0.324</td> <td>    0.027</td>\n",
              "</tr>\n",
              "<tr>\n",
              "  <th>tenure</th>                                   <td>   -0.0606</td> <td>    0.006</td> <td>   -9.716</td> <td> 0.000</td> <td>   -0.073</td> <td>   -0.048</td>\n",
              "</tr>\n",
              "<tr>\n",
              "  <th>PhoneService</th>                             <td>    0.5027</td> <td>    0.590</td> <td>    0.852</td> <td> 0.394</td> <td>   -0.654</td> <td>    1.660</td>\n",
              "</tr>\n",
              "<tr>\n",
              "  <th>OnlineSecurity</th>                           <td>   -0.2054</td> <td>    0.179</td> <td>   -1.150</td> <td> 0.250</td> <td>   -0.556</td> <td>    0.145</td>\n",
              "</tr>\n",
              "<tr>\n",
              "  <th>DeviceProtection</th>                         <td>    0.1474</td> <td>    0.176</td> <td>    0.836</td> <td> 0.403</td> <td>   -0.198</td> <td>    0.493</td>\n",
              "</tr>\n",
              "<tr>\n",
              "  <th>TechSupport</th>                              <td>   -0.1805</td> <td>    0.181</td> <td>   -0.999</td> <td> 0.318</td> <td>   -0.534</td> <td>    0.173</td>\n",
              "</tr>\n",
              "<tr>\n",
              "  <th>StreamingTV</th>                              <td>    0.5905</td> <td>    0.326</td> <td>    1.810</td> <td> 0.070</td> <td>   -0.049</td> <td>    1.230</td>\n",
              "</tr>\n",
              "<tr>\n",
              "  <th>StreamingMovies</th>                          <td>    0.5993</td> <td>    0.327</td> <td>    1.834</td> <td> 0.067</td> <td>   -0.041</td> <td>    1.240</td>\n",
              "</tr>\n",
              "<tr>\n",
              "  <th>PaperlessBilling</th>                         <td>    0.3424</td> <td>    0.074</td> <td>    4.596</td> <td> 0.000</td> <td>    0.196</td> <td>    0.488</td>\n",
              "</tr>\n",
              "<tr>\n",
              "  <th>MonthlyCharges</th>                           <td>   -0.0403</td> <td>    0.032</td> <td>   -1.270</td> <td> 0.204</td> <td>   -0.103</td> <td>    0.022</td>\n",
              "</tr>\n",
              "<tr>\n",
              "  <th>TotalCharges</th>                             <td>    0.0003</td> <td> 7.06e-05</td> <td>    4.657</td> <td> 0.000</td> <td>    0.000</td> <td>    0.000</td>\n",
              "</tr>\n",
              "</table>"
            ],
            "text/latex": "\\begin{center}\n\\begin{tabular}{lclc}\n\\toprule\n\\textbf{Dep. Variable:}                           &      Churn       & \\textbf{  No. Observations:  } &     7032    \\\\\n\\textbf{Model:}                                   &      Logit       & \\textbf{  Df Residuals:      } &     7008    \\\\\n\\textbf{Method:}                                  &       MLE        & \\textbf{  Df Model:          } &       23    \\\\\n\\textbf{Date:}                                    & Sun, 14 Sep 2025 & \\textbf{  Pseudo R-squ.:     } &   0.2845    \\\\\n\\textbf{Time:}                                    &     16:25:35     & \\textbf{  Log-Likelihood:    } &   -2913.1   \\\\\n\\textbf{converged:}                               &       True       & \\textbf{  LL-Null:           } &   -4071.7   \\\\\n\\textbf{Covariance Type:}                         &    nonrobust     & \\textbf{  LLR p-value:       } &    0.000    \\\\\n\\bottomrule\n\\end{tabular}\n\\begin{tabular}{lcccccc}\n                                                  & \\textbf{coef} & \\textbf{std err} & \\textbf{z} & \\textbf{P$> |$z$|$} & \\textbf{[0.025} & \\textbf{0.975]}  \\\\\n\\midrule\n\\textbf{Intercept}                                &       0.8340  &        0.448     &     1.861  &         0.063        &       -0.045    &        1.713     \\\\\n\\textbf{gender[T.Male]}                           &      -0.0218  &        0.065     &    -0.337  &         0.736        &       -0.149    &        0.105     \\\\\n\\textbf{MultipleLines[T.No phone service]}        &       0.3313  &          nan     &       nan  &           nan        &          nan    &          nan     \\\\\n\\textbf{MultipleLines[T.Yes]}                     &       0.4484  &        0.177     &     2.530  &         0.011        &        0.101    &        0.796     \\\\\n\\textbf{InternetService[T.Fiber optic]}           &       1.7475  &        0.798     &     2.190  &         0.029        &        0.183    &        3.312     \\\\\n\\textbf{InternetService[T.No]}                    &      -0.8931  &      2.2e+07     & -4.06e-08  &         1.000        &    -4.31e+07    &     4.31e+07     \\\\\n\\textbf{OnlineBackup[T.No internet service]}      &      -0.8931  &      2.2e+07     & -4.06e-08  &         1.000        &    -4.31e+07    &     4.31e+07     \\\\\n\\textbf{OnlineBackup[T.Yes]}                      &       0.0260  &        0.175     &     0.148  &         0.882        &       -0.318    &        0.370     \\\\\n\\textbf{Contract[T.One year]}                     &      -0.6608  &        0.108     &    -6.142  &         0.000        &       -0.872    &       -0.450     \\\\\n\\textbf{Contract[T.Two year]}                     &      -1.3571  &        0.176     &    -7.691  &         0.000        &       -1.703    &       -1.011     \\\\\n\\textbf{PaymentMethod[T.Credit card (automatic)]} &      -0.0878  &        0.114     &    -0.770  &         0.442        &       -0.311    &        0.136     \\\\\n\\textbf{PaymentMethod[T.Electronic check]}        &       0.3045  &        0.094     &     3.222  &         0.001        &        0.119    &        0.490     \\\\\n\\textbf{PaymentMethod[T.Mailed check]}            &      -0.0576  &        0.115     &    -0.501  &         0.616        &       -0.283    &        0.168     \\\\\n\\textbf{SeniorCitizen}                            &       0.2168  &        0.085     &     2.564  &         0.010        &        0.051    &        0.382     \\\\\n\\textbf{Partner}                                  &      -0.0004  &        0.078     &    -0.005  &         0.996        &       -0.153    &        0.152     \\\\\n\\textbf{Dependents}                               &      -0.1485  &        0.090     &    -1.655  &         0.098        &       -0.324    &        0.027     \\\\\n\\textbf{tenure}                                   &      -0.0606  &        0.006     &    -9.716  &         0.000        &       -0.073    &       -0.048     \\\\\n\\textbf{PhoneService}                             &       0.5027  &        0.590     &     0.852  &         0.394        &       -0.654    &        1.660     \\\\\n\\textbf{OnlineSecurity}                           &      -0.2054  &        0.179     &    -1.150  &         0.250        &       -0.556    &        0.145     \\\\\n\\textbf{DeviceProtection}                         &       0.1474  &        0.176     &     0.836  &         0.403        &       -0.198    &        0.493     \\\\\n\\textbf{TechSupport}                              &      -0.1805  &        0.181     &    -0.999  &         0.318        &       -0.534    &        0.173     \\\\\n\\textbf{StreamingTV}                              &       0.5905  &        0.326     &     1.810  &         0.070        &       -0.049    &        1.230     \\\\\n\\textbf{StreamingMovies}                          &       0.5993  &        0.327     &     1.834  &         0.067        &       -0.041    &        1.240     \\\\\n\\textbf{PaperlessBilling}                         &       0.3424  &        0.074     &     4.596  &         0.000        &        0.196    &        0.488     \\\\\n\\textbf{MonthlyCharges}                           &      -0.0403  &        0.032     &    -1.270  &         0.204        &       -0.103    &        0.022     \\\\\n\\textbf{TotalCharges}                             &       0.0003  &     7.06e-05     &     4.657  &         0.000        &        0.000    &        0.000     \\\\\n\\bottomrule\n\\end{tabular}\n%\\caption{Logit Regression Results}\n\\end{center}"
          },
          "metadata": {},
          "execution_count": 53
        }
      ]
    },
    {
      "cell_type": "code",
      "source": [
        "len(predictor_cols)"
      ],
      "metadata": {
        "colab": {
          "base_uri": "https://localhost:8080/"
        },
        "id": "v_-cxetZO9kM",
        "outputId": "20009c08-6844-4083-92c4-57ca7ae587a4"
      },
      "execution_count": 71,
      "outputs": [
        {
          "output_type": "execute_result",
          "data": {
            "text/plain": [
              "19"
            ]
          },
          "metadata": {},
          "execution_count": 71
        }
      ]
    },
    {
      "cell_type": "markdown",
      "source": [
        "**Sample Size**  \n",
        "* The rule of thumb from online searching seems to be at least 10 observations of the least common outcome (in this case Churn = 1) for each predictor of the model (we have 19 predictors). A formula given was $N = \\frac{10*k}{p}$ where $N$ = number of observations, $k$ = number of independent variables, and $p$ = proportion of least frequent outcome. Therefore we must have at least $\\frac{10 * 19}{0.362} = 525$ observations in our dataset. We have 7302 observations in our data set so this **assumption passes.**"
      ],
      "metadata": {
        "id": "mwBPTLwwOlxC"
      }
    },
    {
      "cell_type": "code",
      "source": [
        "#calculating proportion of least frequent outcome\n",
        "print(data[\"Churn\"].value_counts())\n",
        "proportion_churn = 1869 / 5163\n",
        "proportion_churn\n"
      ],
      "metadata": {
        "colab": {
          "base_uri": "https://localhost:8080/"
        },
        "id": "i2eTEwzDC9Oe",
        "outputId": "e6f3909d-45dd-42ab-ef23-6dfbe1d83a3f"
      },
      "execution_count": 77,
      "outputs": [
        {
          "output_type": "stream",
          "name": "stdout",
          "text": [
            "Churn\n",
            "0    5163\n",
            "1    1869\n",
            "Name: count, dtype: int64\n"
          ]
        },
        {
          "output_type": "execute_result",
          "data": {
            "text/plain": [
              "0.36199883788495063"
            ]
          },
          "metadata": {},
          "execution_count": 77
        }
      ]
    },
    {
      "cell_type": "code",
      "source": [
        "print(f\"The sample size must be at least {10*19 / proportion_churn:.0f}\")"
      ],
      "metadata": {
        "colab": {
          "base_uri": "https://localhost:8080/"
        },
        "id": "HO0i7xSMDCMd",
        "outputId": "980172eb-dbdd-4e29-e14c-5c936e4b3d95"
      },
      "execution_count": 76,
      "outputs": [
        {
          "output_type": "stream",
          "name": "stdout",
          "text": [
            "The sample size must be at least 525\n"
          ]
        }
      ]
    },
    {
      "cell_type": "markdown",
      "source": [
        "### iii. Generalized Additive Models (GAM)"
      ],
      "metadata": {
        "id": "Q3OdOrNDQcUr"
      }
    },
    {
      "cell_type": "markdown",
      "source": [
        "ASsumes the outcome can be modeled by a sum of arbitrary fxns of each feature"
      ],
      "metadata": {
        "id": "opq-ZSdYRBZT"
      }
    },
    {
      "cell_type": "markdown",
      "source": [
        "## 2. Linear Regression  \n",
        "* Based on the assumptions from Part 1. I will take out TotalCharges as the VIF was very high for MonthlyCharges (866) and that is likely because they are colinear, but keeping MonthlyCharges and tenure together gives information on the length of a customer's retention and charge amount which may be more informative than keeping TotalCharges and tenure (might be redundant as high TotalCharge could indicate high tenure). I will also take out 'PhoneService' since that overlaps with 'MultipleLines' where there is a 'NoPhoneService' category and remove the 'NoPhoneService' category as well. I will also do that for 'InternetService' and 'OnlineBackup' where there is a 'NoInternetService' category. I will remove \"StreamingTV\" as that overlaps with \"StreamingMovies\".\n",
        "* I did not do lasso or ridge regression since I removed features based on the VIF and multicollinearity."
      ],
      "metadata": {
        "id": "TXSh9Z0SSeSP"
      }
    },
    {
      "cell_type": "code",
      "source": [
        "# create variables\n",
        "y = data[\"Churn\"].copy()\n",
        "X = data.drop(columns=[\"Churn\", \"customerID\", \"TotalCharges\", \"PhoneService\", \"StreamingTV\", \"cont_1\", \"cont_2\", \"cont_3\"])"
      ],
      "metadata": {
        "id": "8jmlBORhQHVu"
      },
      "execution_count": 107,
      "outputs": []
    },
    {
      "cell_type": "code",
      "source": [
        "X = pd.get_dummies(X, drop_first=True)\n",
        "#dropping the redundant / highly colinear columns\n",
        "X = X.drop([\"InternetService_No\", \"OnlineBackup_No internet service\", \"MultipleLines_No phone service\"], axis=1)"
      ],
      "metadata": {
        "id": "KfCC3jfRXJX_"
      },
      "execution_count": 108,
      "outputs": []
    },
    {
      "cell_type": "code",
      "source": [
        "#from interpretable-ml notebook in Duke-XAI repo\n",
        "X_train, X_test, y_train, y_test = train_test_split(\n",
        "    X, y, test_size=0.2, random_state=42\n",
        ")\n",
        "# scale the features\n",
        "scaler = StandardScaler()\n",
        "X_train_scaled = scaler.fit_transform(X_train)\n",
        "X_test_scaled = scaler.transform(X_test)\n",
        "\n",
        "\n",
        "#\n",
        "def evaluate_model(model, X_train, X_test, y_train, y_test, model_name):\n",
        "    model.fit(X_train, y_train)\n",
        "    y_pred = model.predict(X_test)\n",
        "    mse = mean_squared_error(y_test, y_pred)\n",
        "    r2 = r2_score(y_test, y_pred)\n",
        "\n",
        "    print(f\"\\n{model_name}:\")\n",
        "    print(f\"MSE: {mse:.2f}\")\n",
        "    print(f\"R2 Score: {r2:.2f}\")\n",
        "\n",
        "    for feature, coef in zip(X.columns, model.coef_):\n",
        "      print(f\"{feature}: {coef:.4f}\")\n",
        "\n",
        "    return model, y_pred\n",
        "\n",
        "#fit model\n",
        "lr_model, lr_pred = evaluate_model(LinearRegression(), X_train_scaled, X_test_scaled, y_train, y_test, \"Linear Regression\")\n"
      ],
      "metadata": {
        "colab": {
          "base_uri": "https://localhost:8080/"
        },
        "id": "XhsMKLONYl64",
        "outputId": "697d0f52-0095-4f03-aee5-296348d2916a"
      },
      "execution_count": 109,
      "outputs": [
        {
          "output_type": "stream",
          "name": "stdout",
          "text": [
            "\n",
            "Linear Regression:\n",
            "MSE: 0.15\n",
            "R2 Score: 0.24\n",
            "SeniorCitizen: 0.0226\n",
            "Partner: 0.0025\n",
            "Dependents: -0.0128\n",
            "tenure: -0.1139\n",
            "OnlineSecurity: -0.0311\n",
            "DeviceProtection: -0.0046\n",
            "TechSupport: -0.0324\n",
            "StreamingMovies: 0.0143\n",
            "PaperlessBilling: 0.0214\n",
            "MonthlyCharges: 0.0772\n",
            "gender_Male: -0.0018\n",
            "MultipleLines_Yes: 0.0043\n",
            "InternetService_Fiber optic: 0.0336\n",
            "OnlineBackup_Yes: -0.0143\n",
            "Contract_One year: -0.0546\n",
            "Contract_Two year: -0.0390\n",
            "PaymentMethod_Credit card (automatic): -0.0041\n",
            "PaymentMethod_Electronic check: 0.0349\n",
            "PaymentMethod_Mailed check: -0.0106\n"
          ]
        }
      ]
    },
    {
      "cell_type": "code",
      "source": [
        "data[\"MonthlyCharges\"]"
      ],
      "metadata": {
        "colab": {
          "base_uri": "https://localhost:8080/",
          "height": 459
        },
        "id": "u2wtO5mzwo3U",
        "outputId": "3af40066-a78d-434e-a45b-a87c3346aac8"
      },
      "execution_count": 110,
      "outputs": [
        {
          "output_type": "execute_result",
          "data": {
            "text/plain": [
              "0        29.85\n",
              "1        56.95\n",
              "2        53.85\n",
              "3        42.30\n",
              "4        70.70\n",
              "         ...  \n",
              "7038     84.80\n",
              "7039    103.20\n",
              "7040     29.60\n",
              "7041     74.40\n",
              "7042    105.65\n",
              "Name: MonthlyCharges, Length: 7032, dtype: float64"
            ],
            "text/html": [
              "<div>\n",
              "<style scoped>\n",
              "    .dataframe tbody tr th:only-of-type {\n",
              "        vertical-align: middle;\n",
              "    }\n",
              "\n",
              "    .dataframe tbody tr th {\n",
              "        vertical-align: top;\n",
              "    }\n",
              "\n",
              "    .dataframe thead th {\n",
              "        text-align: right;\n",
              "    }\n",
              "</style>\n",
              "<table border=\"1\" class=\"dataframe\">\n",
              "  <thead>\n",
              "    <tr style=\"text-align: right;\">\n",
              "      <th></th>\n",
              "      <th>MonthlyCharges</th>\n",
              "    </tr>\n",
              "  </thead>\n",
              "  <tbody>\n",
              "    <tr>\n",
              "      <th>0</th>\n",
              "      <td>29.85</td>\n",
              "    </tr>\n",
              "    <tr>\n",
              "      <th>1</th>\n",
              "      <td>56.95</td>\n",
              "    </tr>\n",
              "    <tr>\n",
              "      <th>2</th>\n",
              "      <td>53.85</td>\n",
              "    </tr>\n",
              "    <tr>\n",
              "      <th>3</th>\n",
              "      <td>42.30</td>\n",
              "    </tr>\n",
              "    <tr>\n",
              "      <th>4</th>\n",
              "      <td>70.70</td>\n",
              "    </tr>\n",
              "    <tr>\n",
              "      <th>...</th>\n",
              "      <td>...</td>\n",
              "    </tr>\n",
              "    <tr>\n",
              "      <th>7038</th>\n",
              "      <td>84.80</td>\n",
              "    </tr>\n",
              "    <tr>\n",
              "      <th>7039</th>\n",
              "      <td>103.20</td>\n",
              "    </tr>\n",
              "    <tr>\n",
              "      <th>7040</th>\n",
              "      <td>29.60</td>\n",
              "    </tr>\n",
              "    <tr>\n",
              "      <th>7041</th>\n",
              "      <td>74.40</td>\n",
              "    </tr>\n",
              "    <tr>\n",
              "      <th>7042</th>\n",
              "      <td>105.65</td>\n",
              "    </tr>\n",
              "  </tbody>\n",
              "</table>\n",
              "<p>7032 rows × 1 columns</p>\n",
              "</div><br><label><b>dtype:</b> float64</label>"
            ]
          },
          "metadata": {},
          "execution_count": 110
        }
      ]
    },
    {
      "cell_type": "markdown",
      "source": [
        "**Interpretation of Model Coefficients**\n",
        "This model (linear regression) predicts the expected value of Churn (between 0 and 1), therefore, the coefficients represent the change in the predicted probability of churn for a 1 unit increase in the predictor or when compared to a baseline category (if categorical) while holding all other variables constant.   \n",
        "\n",
        "**Binary / categorical variables:**\n",
        "* **Senior Citizen**: There is a 2.26% increase in predicted probability of churn as a senior citizen compared to a non-senior citizen holding all other variables constant.\n",
        "* **Partner**: 0.25% increase (almost no effect) in churn when having a partner holding all other variables constant. Essentially, having a partner has almost no effect on churn rates.\n",
        "* **Dependents**: Having dependents shows a 1.28% decrease in predicted probability of churn holding all other variables constant.\n",
        "* **Online Security**: Having online security decreases probability of churn by 3.11% holding all other variables constant.\n",
        "* **DeviceProtection**: 0.46 % decrease in churn (almost no effect) when having device protection holding all other variables constant.\n",
        "* **TechSupport**: When customers have / get tech support, there's a 3.24% decrease in probability of churn holding all other variables constant.\n",
        "* **StreamingMovies**: Having Streaming Movies slightly increases churn (~1.43%) compared to not subscribing, holding all other variables constant.\n",
        "* **PaperlessBilling**: Having paperless billing slightly increases churn (~2.14%) when holding all other variables constant.\n",
        "* **Gender (Male)**: Men have a 0.18% lower probability for churn (almost no effect) compared to women holding all other variables constant. Essentially, gender does not seem to have much of an effect on churn rates.\n",
        "* **Multiple Lines**: Having multiple phone lines seems to increase probability of churn by ~0.43% (almost no effect) when holding all other variables constant.\n",
        "* **Internet Service**: Customers with fiber optic service have a 3.36% increase in probability of churn compared to customers with DSL internet service when holding all other variables constant.\n",
        "* **Online Backup**: Having online backup seems to decrease probability of churn by 1.43% holding all other variables constant.\n",
        "* **Contract one year**: Having a one year contract decreases probability of churn by 5.46% compared to having a month-to-month contract when holding all other variables constant.\n",
        "* **Contract two year**: Having a two year contract decreases probability of churn by 3.90% compared to having a month-to-month contract when holding all other variables constant.\n",
        "* **Payment Method Credit Card**: Paying with credit card decreases probability of churn by 0.41% (almost no effect) compared to using a Bank transfer while holding all other variables constant. Essentially, credit card payment has almost no effect on churn rates.\n",
        "* **Payment Method Electronic Check**: Paying with an electronic check shows a 3.49% increase in probability of churn when compared to bank transfer when holding all other variables constant.\n",
        "* **Payment Method Mailed Check**: Paying with a mailed check shows a 1.06% decrease in probability of churn when compared to bank transfer payment when holding all other variables constant.\n",
        "\n",
        "**Continuous Variables**:\n",
        "* **tenure**: Each additional month of tenure reduces predicted churn probability by 0.1139 or 11.39%.\n",
        "* **MonthlyCharges**: An increase in $1 in monthly charges increases probability of churn by 0.0772 or 7.72%."
      ],
      "metadata": {
        "id": "pYK6Q5CNpmNq"
      }
    },
    {
      "cell_type": "code",
      "source": [
        "\n",
        "\n",
        "# Residual Plot from Duke-XAI hw notebook\n",
        "def plot_residuals(y_test, y_pred, model_name):\n",
        "    residuals = y_test - y_pred\n",
        "    plt.figure(figsize=(10, 6))\n",
        "    plt.scatter(y_pred, residuals)\n",
        "    plt.xlabel('Predicted Values')\n",
        "    plt.ylabel('Residuals')\n",
        "    plt.title(f'Residual Plot - {model_name}')\n",
        "    plt.axhline(y=0, color='r', linestyle='--')\n",
        "    plt.tight_layout()\n",
        "    plt.show()\n",
        "\n",
        "plot_residuals(y_test, lr_pred, 'Linear Regression')\n",
        "\n",
        "\n"
      ],
      "metadata": {
        "colab": {
          "base_uri": "https://localhost:8080/",
          "height": 607
        },
        "id": "wtFNXIRX7kjG",
        "outputId": "9381c30f-0caf-4ee9-b388-f95c2ae65508"
      },
      "execution_count": 113,
      "outputs": [
        {
          "output_type": "display_data",
          "data": {
            "text/plain": [
              "<Figure size 1000x600 with 1 Axes>"
            ],
            "image/png": "[encoded data removed]"
          },
          "metadata": {}
        }
      ]
    },
    {
      "cell_type": "code",
      "source": [
        "\n",
        "\n",
        "# Actual vs Predicted Plot\n",
        "def plot_actual_vs_predicted(y_test, y_pred, model_name):\n",
        "    plt.figure(figsize=(10, 6))\n",
        "    plt.scatter(y_test, y_pred, alpha=0.5)\n",
        "    plt.plot([y_test.min(), y_test.max()], [y_test.min(), y_test.max()], 'r--', lw=2)\n",
        "    plt.xlabel('Actual Values')\n",
        "    plt.ylabel('Predicted Values')\n",
        "    plt.title(f'Actual vs Predicted - {model_name}')\n",
        "    plt.tight_layout()\n",
        "    plt.show()\n",
        "\n",
        "plot_actual_vs_predicted(y_test, lr_pred, 'Linear Regression')\n",
        "\n",
        "\n"
      ],
      "metadata": {
        "colab": {
          "base_uri": "https://localhost:8080/",
          "height": 607
        },
        "id": "i-GcVhJK8PZd",
        "outputId": "deb6e43d-8214-4212-b3e4-25746a5b8249"
      },
      "execution_count": 114,
      "outputs": [
        {
          "output_type": "display_data",
          "data": {
            "text/plain": [
              "<Figure size 1000x600 with 1 Axes>"
            ],
            "image/png": "[encoded data removed]"
          },
          "metadata": {}
        }
      ]
    },
    {
      "cell_type": "markdown",
      "source": [
        "**Assessing Model Performance**:  \n",
        "- My model has a MSE of 0.15 and an $R^2$ of 0.24.\n",
        "- This means that only 24% of the variance was captured by my model and 76% of the variance is unexplained. Because the outcome variable we are predicting here is binary (0 to 1) but we modeled it with linear regression which is continuous, the outcome is on a probability from 0 to 1, so having a mean squared error of 0.15 means that on average, the squared difference between my predictions and actual values is 0.15. If you take the square root, that is a prediction that is off by 0.39 on average, which is quite large when the scale is from 0 to 1 as a probability. This suggests that the linear model is not ideal for modeling and predicting churn, a binary outcome variable, and this makes sense as we saw many of the assumptions needed for linear regression were not met in Part 1.  \n",
        "- Additionally, the residuals vs. predicted plot, similar to in Part 1, show that the model is not adhering to assumptions needed for linear regression (no equal spread of residuals, there's a pattern in the residual plot) to really be robust and have predictions that are usable and informative.\n",
        "- In the Actual vs. Predicted plot, the red line is perfect predictions and we see that because the actual values are only 0 or 1 (binary), it isn't really possible to model along the red line linearly, thus reducing our model's performance and accuracy."
      ],
      "metadata": {
        "id": "CiE-jcee5Msq"
      }
    },
    {
      "cell_type": "markdown",
      "source": [
        "### 3. Logistic Regression  \n",
        "I will use the same predictors as the Linear Regression model as the same multicollinearity issues apply."
      ],
      "metadata": {
        "id": "EL3sOhOU7UA3"
      }
    },
    {
      "cell_type": "code",
      "source": [
        "#adapted code from linreg to logistic with prompt to ChatGPT to help me create\n",
        "#a function to evaluate logistic regression model\n",
        "def evaluate_model(model, X_train, X_test, y_train, y_test, model_name):\n",
        "    model.fit(X_train, y_train)\n",
        "    y_pred = model.predict(X_test)\n",
        "    y_pred = model.predict(X_test)\n",
        "    y_pred_prob = model.predict_proba(X_test)[:, 1]\n",
        "\n",
        "    print(\"Accuracy:\", accuracy_score(y_test, y_pred))\n",
        "    print(\"ROC AUC:\", roc_auc_score(y_test, y_pred_prob))\n",
        "    print(\"Confusion Matrix:\\n\", confusion_matrix(y_test, y_pred))\n",
        "    print(\"Classification Report:\\n\", classification_report(y_test, y_pred))\n",
        "\n",
        "    coefs = pd.DataFrame({\n",
        "    \"Feature\": X.columns,\n",
        "    \"Coefficient\": model.coef_[0],\n",
        "    \"Odds_Ratio\": np.exp(model.coef_[0])\n",
        "})\n",
        "\n",
        "    print(coefs)\n",
        "    fpr, tpr, thresholds = roc_curve(y_test, y_pred_prob)\n",
        "    roc_auc = auc(fpr, tpr)\n",
        "\n",
        "    plt.figure(figsize=(6,6))\n",
        "    plt.plot(fpr, tpr, label=f'Logistic Regression (AUC = {roc_auc:.2f})')\n",
        "    plt.plot([0,1], [0,1], 'k--', label='Random Classifier')\n",
        "    plt.xlabel('False Positive Rate')\n",
        "    plt.ylabel('True Positive Rate')\n",
        "    plt.title('ROC Curve')\n",
        "    plt.legend(loc='lower right')\n",
        "    plt.show()\n",
        "\n",
        "    y_pred = log_model.predict(X_test)\n",
        "    disp = ConfusionMatrixDisplay.from_estimator(\n",
        "    log_model, X_test, y_test,\n",
        "    cmap=plt.cm.Blues,\n",
        "    values_format='d'\n",
        "    )\n",
        "    plt.title(\"Confusion Matrix\")\n",
        "    plt.show()\n",
        "\n",
        "    return model, y_pred\n",
        "\n",
        "#fit model\n",
        "log_model, log_pred = evaluate_model(LogisticRegression(), X_train_scaled, X_test_scaled, y_train, y_test, \"Logistic Regression\")\n"
      ],
      "metadata": {
        "colab": {
          "base_uri": "https://localhost:8080/",
          "height": 1000
        },
        "id": "yFiaoyRX6sEr",
        "outputId": "e3f92c36-e562-4c04-85a9-fe5721ce85d3"
      },
      "execution_count": 123,
      "outputs": [
        {
          "output_type": "stream",
          "name": "stdout",
          "text": [
            "Accuracy: 0.7860696517412935\n",
            "ROC AUC: 0.8252390369154791\n",
            "Confusion Matrix:\n",
            " [[917 116]\n",
            " [185 189]]\n",
            "Classification Report:\n",
            "               precision    recall  f1-score   support\n",
            "\n",
            "           0       0.83      0.89      0.86      1033\n",
            "           1       0.62      0.51      0.56       374\n",
            "\n",
            "    accuracy                           0.79      1407\n",
            "   macro avg       0.73      0.70      0.71      1407\n",
            "weighted avg       0.78      0.79      0.78      1407\n",
            "\n",
            "                                  Feature  Coefficient  Odds_Ratio\n",
            "0                           SeniorCitizen     0.111425    1.117870\n",
            "1                                 Partner     0.024789    1.025098\n",
            "2                              Dependents    -0.118392    0.888348\n",
            "3                                  tenure    -0.825372    0.438072\n",
            "4                          OnlineSecurity    -0.203103    0.816194\n",
            "5                        DeviceProtection     0.014663    1.014771\n",
            "6                             TechSupport    -0.185155    0.830975\n",
            "7                         StreamingMovies     0.138190    1.148193\n",
            "8                        PaperlessBilling     0.161180    1.174897\n",
            "9                          MonthlyCharges     0.486524    1.626652\n",
            "10                            gender_Male    -0.014495    0.985610\n",
            "11                      MultipleLines_Yes     0.048462    1.049655\n",
            "12            InternetService_Fiber optic     0.202945    1.225005\n",
            "13                       OnlineBackup_Yes    -0.036061    0.964582\n",
            "14                      Contract_One year    -0.343720    0.709127\n",
            "15                      Contract_Two year    -0.611156    0.542723\n",
            "16  PaymentMethod_Credit card (automatic)    -0.052668    0.948695\n",
            "17         PaymentMethod_Electronic check     0.151581    1.163673\n",
            "18             PaymentMethod_Mailed check    -0.034731    0.965865\n"
          ]
        },
        {
          "output_type": "display_data",
          "data": {
            "text/plain": [
              "<Figure size 600x600 with 1 Axes>"
            ],
            "image/png": "[encoded data removed]"
          },
          "metadata": {}
        },
        {
          "output_type": "display_data",
          "data": {
            "text/plain": [
              "<Figure size 640x480 with 2 Axes>"
            ],
            "image/png": "[encoded data removed]"
          },
          "metadata": {}
        }
      ]
    },
    {
      "cell_type": "markdown",
      "source": [
        "**Interpretation of Model Coefficients**:\n",
        "For logistic regression, I put the coefficients as odd ratios by exponentiating them. This allows them to be interpreted as the multiplicative change in the odds per one unit change in the predictor or between a predictor and its reference category (if categorical)\n",
        "* **SeniorCitizen**: The odds of churning increase by 11.79% (odds ratio 1.1179) as a senior citizen compared to a non senior citizen when holding all other variables constant.\n",
        "* **Partner**: The odds of churning increase by 2.5% (odds ratio 1.025) when the customer has a partner when holding all other variables constant.\n",
        "* **Dependents**: The odds of churning decrease by ~11% (odds ratio 0.888) when customer has dependents when holding all other variables constant.\n",
        "*"
      ],
      "metadata": {
        "id": "KgZJSvZaBwMY"
      }
    },
    {
      "cell_type": "code",
      "source": [],
      "metadata": {
        "id": "jgOiBWzu98CX"
      },
      "execution_count": 120,
      "outputs": []
    }
  ],
  "metadata": {
    "language_info": {
      "name": "python"
    },
    "colab": {
      "provenance": [],
      "include_colab_link": true
    },
    "kernelspec": {
      "name": "python3",
      "display_name": "Python 3"
    }
  },
  "nbformat": 4,
  "nbformat_minor": 0
}